{
 "cells": [
  {
   "cell_type": "code",
   "execution_count": null,
   "metadata": {},
   "outputs": [],
   "source": [
    "#default_exp tags"
   ]
  },
  {
   "cell_type": "code",
   "execution_count": null,
   "metadata": {},
   "outputs": [],
   "source": [
    "#export\n",
    "import yaml\n",
    "import os\n",
    "import calendar\n",
    "import time\n",
    "import blocks\n",
    "\n",
    "from blocks.filesystem import GCSFileSystem as gcsfs\n",
    "from yoda.cli import is_run_on_local"
   ]
  },
  {
   "cell_type": "code",
   "execution_count": null,
   "metadata": {},
   "outputs": [],
   "source": [
    "#export\n",
    "def _interpolate_string(input_string: str):\n",
    "    fillin_dict = dict(os.environ)\n",
    "    update_dict = {\n",
    "        \"NOW\": time.strftime(\"%Y%m%d_%H%M%S\"),\n",
    "        \"EPOCH\": calendar.timegm(time.gmtime()),\n",
    "    }\n",
    "    fillin_dict.update(update_dict)\n",
    "    return input_string.format(**fillin_dict)"
   ]
  },
  {
   "cell_type": "code",
   "execution_count": null,
   "metadata": {},
   "outputs": [],
   "source": [
    "#export\n",
    "class DataTag(yaml.YAMLObject):\n",
    "    \"\"\"\n",
    "    Load data as pandas dataframe\n",
    "    \"\"\"\n",
    "    yaml_tag = u'!data'\n",
    "    yaml_loader = yaml.SafeLoader\n",
    "\n",
    "    @classmethod\n",
    "    def from_yaml(cls, loader, node):\n",
    "        filename = loader.construct_scalar(node)\n",
    "        filename = _interpolate_string(filename)\n",
    "        return blocks.assemble(filename)"
   ]
  },
  {
   "cell_type": "code",
   "execution_count": null,
   "metadata": {},
   "outputs": [
    {
     "name": "stdout",
     "output_type": "stream",
     "text": [
      "data: \n",
      "  input_df: !data \"../data/iris_data.csv\"\n",
      "  eval_df: !data \"../data/iris_data.csv\"\n",
      "  output_path: \"../output/\"\n",
      "  features: \"sepal_length,sepal_width,petal_length\"\n",
      "  label: species\n",
      "model:\n",
      "  estimator: xgboost.XGBClassifier\n",
      "  params:\n",
      "    max_depth: 4\n",
      "    num_estimator: 50\n",
      "eval:\n",
      "  metrics: \"accuracy,f1_macro\"\n"
     ]
    },
    {
     "data": {
      "text/html": [
       "<div>\n",
       "<style scoped>\n",
       "    .dataframe tbody tr th:only-of-type {\n",
       "        vertical-align: middle;\n",
       "    }\n",
       "\n",
       "    .dataframe tbody tr th {\n",
       "        vertical-align: top;\n",
       "    }\n",
       "\n",
       "    .dataframe thead th {\n",
       "        text-align: right;\n",
       "    }\n",
       "</style>\n",
       "<table border=\"1\" class=\"dataframe\">\n",
       "  <thead>\n",
       "    <tr style=\"text-align: right;\">\n",
       "      <th></th>\n",
       "      <th>sepal_length</th>\n",
       "      <th>sepal_width</th>\n",
       "      <th>petal_length</th>\n",
       "      <th>petal_width</th>\n",
       "      <th>species</th>\n",
       "    </tr>\n",
       "  </thead>\n",
       "  <tbody>\n",
       "    <tr>\n",
       "      <th>0</th>\n",
       "      <td>0.0</td>\n",
       "      <td>1.0</td>\n",
       "      <td>2.0</td>\n",
       "      <td>3.0</td>\n",
       "      <td>0</td>\n",
       "    </tr>\n",
       "    <tr>\n",
       "      <th>1</th>\n",
       "      <td>5.1</td>\n",
       "      <td>3.5</td>\n",
       "      <td>1.4</td>\n",
       "      <td>0.2</td>\n",
       "      <td>0</td>\n",
       "    </tr>\n",
       "    <tr>\n",
       "      <th>2</th>\n",
       "      <td>4.9</td>\n",
       "      <td>3.0</td>\n",
       "      <td>1.4</td>\n",
       "      <td>0.2</td>\n",
       "      <td>0</td>\n",
       "    </tr>\n",
       "    <tr>\n",
       "      <th>3</th>\n",
       "      <td>4.7</td>\n",
       "      <td>3.2</td>\n",
       "      <td>1.3</td>\n",
       "      <td>0.2</td>\n",
       "      <td>0</td>\n",
       "    </tr>\n",
       "    <tr>\n",
       "      <th>4</th>\n",
       "      <td>4.6</td>\n",
       "      <td>3.1</td>\n",
       "      <td>1.5</td>\n",
       "      <td>0.2</td>\n",
       "      <td>0</td>\n",
       "    </tr>\n",
       "    <tr>\n",
       "      <th>...</th>\n",
       "      <td>...</td>\n",
       "      <td>...</td>\n",
       "      <td>...</td>\n",
       "      <td>...</td>\n",
       "      <td>...</td>\n",
       "    </tr>\n",
       "    <tr>\n",
       "      <th>146</th>\n",
       "      <td>6.7</td>\n",
       "      <td>3.0</td>\n",
       "      <td>5.2</td>\n",
       "      <td>2.3</td>\n",
       "      <td>2</td>\n",
       "    </tr>\n",
       "    <tr>\n",
       "      <th>147</th>\n",
       "      <td>6.3</td>\n",
       "      <td>2.5</td>\n",
       "      <td>5.0</td>\n",
       "      <td>1.9</td>\n",
       "      <td>2</td>\n",
       "    </tr>\n",
       "    <tr>\n",
       "      <th>148</th>\n",
       "      <td>6.5</td>\n",
       "      <td>3.0</td>\n",
       "      <td>5.2</td>\n",
       "      <td>2.0</td>\n",
       "      <td>2</td>\n",
       "    </tr>\n",
       "    <tr>\n",
       "      <th>149</th>\n",
       "      <td>6.2</td>\n",
       "      <td>3.4</td>\n",
       "      <td>5.4</td>\n",
       "      <td>2.3</td>\n",
       "      <td>2</td>\n",
       "    </tr>\n",
       "    <tr>\n",
       "      <th>150</th>\n",
       "      <td>5.9</td>\n",
       "      <td>3.0</td>\n",
       "      <td>5.1</td>\n",
       "      <td>1.8</td>\n",
       "      <td>2</td>\n",
       "    </tr>\n",
       "  </tbody>\n",
       "</table>\n",
       "<p>151 rows × 5 columns</p>\n",
       "</div>"
      ],
      "text/plain": [
       "     sepal_length  sepal_width  petal_length  petal_width  species\n",
       "0             0.0          1.0           2.0          3.0        0\n",
       "1             5.1          3.5           1.4          0.2        0\n",
       "2             4.9          3.0           1.4          0.2        0\n",
       "3             4.7          3.2           1.3          0.2        0\n",
       "4             4.6          3.1           1.5          0.2        0\n",
       "..            ...          ...           ...          ...      ...\n",
       "146           6.7          3.0           5.2          2.3        2\n",
       "147           6.3          2.5           5.0          1.9        2\n",
       "148           6.5          3.0           5.2          2.0        2\n",
       "149           6.2          3.4           5.4          2.3        2\n",
       "150           5.9          3.0           5.1          1.8        2\n",
       "\n",
       "[151 rows x 5 columns]"
      ]
     },
     "execution_count": null,
     "metadata": {},
     "output_type": "execute_result"
    }
   ],
   "source": [
    "config1 = '../data/configs/config1.yaml'\n",
    "with open(config1) as f:\n",
    "    print(f.read())\n",
    "\n",
    "yaml.safe_load(open(config1))['data']['input_df']"
   ]
  },
  {
   "cell_type": "code",
   "execution_count": null,
   "metadata": {},
   "outputs": [],
   "source": [
    "#export\n",
    "class FileTag(yaml.YAMLObject):\n",
    "    \"\"\"\n",
    "    Read local file as a string.\n",
    "    \"\"\"\n",
    "    yaml_tag = u'!file'\n",
    "    yaml_loader = yaml.SafeLoader\n",
    "\n",
    "    @classmethod\n",
    "    def from_yaml(cls, loader, node):\n",
    "        filename = loader.construct_scalar(node)\n",
    "        filename = _interpolate_string(filename)\n",
    "        with open(filename, 'r') as file:\n",
    "            data = file.read()\n",
    "        return data"
   ]
  },
  {
   "cell_type": "code",
   "execution_count": null,
   "metadata": {},
   "outputs": [
    {
     "name": "stdout",
     "output_type": "stream",
     "text": [
      "data: \n",
      "  input_path: \"../data/iris_data.csv\"\n",
      "  eval_path: \"../data/iris_data.csv\"\n",
      "  output_path: \"../output/\"\n",
      "  features: \"sepal_length,sepal_width,petal_length\"\n",
      "  label: species\n",
      "model:\n",
      "  model_code: !file \"../data/models/LGBDefault.py\"\n",
      "  estimator: LGExt\n",
      "  params:\n",
      "    max_depth: 4\n",
      "    num_estimator: 50\n",
      "eval:\n",
      "  metrics: \"accuracy,f1_macro\"\n",
      "from lightgbm.sklearn import LGBMClassifier\n",
      "\n",
      "\n",
      "class LGBExt(LGBMClassifier):\n",
      "    def __init__(self,\n",
      "                 categories,\n",
      "                 n_estimators=1000,\n",
      "                 boosting_type=\"gbdt\",\n",
      "                 objective=\"binary\",\n",
      "                 metric=\"auc\",\n",
      "                 subsample=0.75,\n",
      "                 subsample_freq=3,\n",
      "                 learning_rate=0.02,\n",
      "                 feature_fraction=0.1,\n",
      "                 max_depth=14,\n",
      "                 num_leaves=100,\n",
      "                 lambda_l1=1.5,\n",
      "                 lambda_l2=3,\n",
      "                 early_stopping_rounds=None,\n",
      "                 scale_pos_weight=3,\n",
      "                 verbose=100,\n",
      "                 **params):\n",
      "        self.categories = categories\n",
      "        super().__init__(\n",
      "            n_estimators=n_estimators,\n",
      "            boosting_type=boosting_type,\n",
      "            objective=objective,\n",
      "            metric=metric,\n",
      "            subsample=subsample,\n",
      "            subsample_freq=subsample_freq,\n",
      "            learning_rate=learning_rate,\n",
      "            feature_fraction=feature_fraction,\n",
      "            max_depth=max_depth,\n",
      "            num_leaves=num_leaves,\n",
      "            lambda_l1=lambda_l1,\n",
      "            lambda_l2=lambda_l2,\n",
      "            early_stopping_rounds=early_stopping_rounds,\n",
      "            scale_pos_weight=scale_pos_weight,\n",
      "            verbose=verbose,\n",
      "            **params\n",
      "        )\n",
      "\n"
     ]
    }
   ],
   "source": [
    "config3 = '../data/configs/config3.yaml'\n",
    "with open(config3) as f:\n",
    "    print(f.read())\n",
    "\n",
    "print(yaml.safe_load(open(config3))['model']['model_code'])"
   ]
  },
  {
   "cell_type": "code",
   "execution_count": null,
   "metadata": {},
   "outputs": [],
   "source": [
    "#export\n",
    "class FormatTag(yaml.YAMLObject):\n",
    "    \"\"\"\n",
    "    This tag supporting: NOW, EPOCH, and anything from environment variable.\n",
    "    \"\"\"\n",
    "    yaml_tag = u'!format'\n",
    "    yaml_loader = yaml.SafeLoader\n",
    "\n",
    "    @classmethod\n",
    "    def from_yaml(cls, loader, node):\n",
    "        values = loader.construct_scalar(node)\n",
    "        return _interpolate_string(values)"
   ]
  },
  {
   "cell_type": "code",
   "execution_count": null,
   "metadata": {},
   "outputs": [
    {
     "name": "stdout",
     "output_type": "stream",
     "text": [
      "image: \"gcr.io/wmt-customer-tech-case-sci-dev/yoda:v2\"\n",
      "data: \n",
      "  input_df: !format \"gs://{BUCKET}/{USER}/test/iris_data.csv\"\n",
      "  eval_df: !format \"gs://{BUCKET}/{USER}/test/iris_data.csv\"\n",
      "  output_path: !format \"gs://{BUCKET}/{USER}/test/output/\"\n",
      "  features: \"sepal_length,sepal_width,petal_length\"\n",
      "  label: species\n",
      "model:\n",
      "  estimator: xgboost.XGBClassifier\n",
      "  params:\n",
      "    max_depth: 4\n",
      "    num_estimator: 50\n",
      "eval:\n",
      "  metrics: \"accuracy,f1_macro\"\n"
     ]
    }
   ],
   "source": [
    "import os\n",
    "\n",
    "config2 = '../data/configs/config2.yaml'\n",
    "with open(config2) as f:\n",
    "    print(f.read())\n",
    "\n",
    "os.environ[\"BUCKET\"] = \"testjobsubmit\"\n",
    "conf_dict2 = yaml.safe_load(open(config2))"
   ]
  },
  {
   "cell_type": "code",
   "execution_count": null,
   "metadata": {},
   "outputs": [
    {
     "data": {
      "text/plain": [
       "{'image': 'gcr.io/wmt-customer-tech-case-sci-dev/yoda:v2',\n",
       " 'data': {'input_df': 'gs://testjobsubmit/j0l04cl/test/iris_data.csv',\n",
       "  'eval_df': 'gs://testjobsubmit/j0l04cl/test/iris_data.csv',\n",
       "  'output_path': 'gs://testjobsubmit/j0l04cl/test/output/',\n",
       "  'features': 'sepal_length,sepal_width,petal_length',\n",
       "  'label': 'species'},\n",
       " 'model': {'estimator': 'xgboost.XGBClassifier',\n",
       "  'params': {'max_depth': 4, 'num_estimator': 50}},\n",
       " 'eval': {'metrics': 'accuracy,f1_macro'}}"
      ]
     },
     "execution_count": null,
     "metadata": {},
     "output_type": "execute_result"
    }
   ],
   "source": [
    "conf_dict2"
   ]
  },
  {
   "cell_type": "code",
   "execution_count": null,
   "metadata": {},
   "outputs": [],
   "source": [
    "conf_dict2[\"image\"] = 'gcr.io/wmt-customer-tech-case-sci-dev/yoda:test'"
   ]
  },
  {
   "cell_type": "code",
   "execution_count": null,
   "metadata": {},
   "outputs": [
    {
     "data": {
      "text/plain": [
       "{'image': 'gcr.io/wmt-customer-tech-case-sci-dev/yoda:test',\n",
       " 'data': {'input_df': 'gs://testjobsubmit/j0l04cl/test/iris_data.csv',\n",
       "  'eval_df': 'gs://testjobsubmit/j0l04cl/test/iris_data.csv',\n",
       "  'output_path': 'gs://testjobsubmit/j0l04cl/test/output/',\n",
       "  'features': 'sepal_length,sepal_width,petal_length',\n",
       "  'label': 'species'},\n",
       " 'model': {'estimator': 'xgboost.XGBClassifier',\n",
       "  'params': {'max_depth': 4, 'num_estimator': 50}},\n",
       " 'eval': {'metrics': 'accuracy,f1_macro'}}"
      ]
     },
     "execution_count": null,
     "metadata": {},
     "output_type": "execute_result"
    }
   ],
   "source": [
    "conf_dict2"
   ]
  },
  {
   "cell_type": "code",
   "execution_count": null,
   "metadata": {},
   "outputs": [
    {
     "name": "stderr",
     "output_type": "stream",
     "text": [
      "INFO:root:Copying /var/folders/2k/b58ly_192yjgtv76zjxqj6f8_9cn2g/T/tmp8_61ryug to gs://testjobsubmit/j0l04cl/test/output/config.yaml...\n",
      "DEBUG:googleapiclient.discovery:URL being requested: GET https://www.googleapis.com/discovery/v1/apis/ml/v1/rest\n",
      "DEBUG:googleapiclient.discovery:URL being requested: POST https://ml.googleapis.com/v1/projects/wmt-customer-tech-case-sci-dev/jobs?alt=json\n",
      "DEBUG:google_auth_httplib2:Making request: POST https://oauth2.googleapis.com/token\n"
     ]
    }
   ],
   "source": [
    "run_yoda_on_gcp(conf_dict2)"
   ]
  },
  {
   "cell_type": "code",
   "execution_count": null,
   "metadata": {},
   "outputs": [
    {
     "name": "stderr",
     "output_type": "stream",
     "text": [
      "[autoreload of yoda.runner failed: Traceback (most recent call last):\n",
      "  File \"/Users/j0l04cl/anaconda3/envs/yoda/lib/python3.7/site-packages/IPython/extensions/autoreload.py\", line 245, in check\n",
      "    superreload(m, reload, self.old_objects)\n",
      "  File \"/Users/j0l04cl/anaconda3/envs/yoda/lib/python3.7/site-packages/IPython/extensions/autoreload.py\", line 394, in superreload\n",
      "    module = reload(module)\n",
      "  File \"/Users/j0l04cl/anaconda3/envs/yoda/lib/python3.7/imp.py\", line 314, in reload\n",
      "    return importlib.reload(module)\n",
      "  File \"/Users/j0l04cl/anaconda3/envs/yoda/lib/python3.7/importlib/__init__.py\", line 169, in reload\n",
      "    _bootstrap._exec(spec, module)\n",
      "  File \"<frozen importlib._bootstrap>\", line 630, in _exec\n",
      "  File \"<frozen importlib._bootstrap_external>\", line 728, in exec_module\n",
      "  File \"<frozen importlib._bootstrap>\", line 219, in _call_with_frames_removed\n",
      "  File \"/Users/j0l04cl/Documents/git_repo/yoda/yoda/runner.py\", line 117, in <module>\n",
      "    metrics: str = None) -> dict:\n",
      "NameError: name 'sklearn' is not defined\n",
      "]\n"
     ]
    },
    {
     "ename": "ImportError",
     "evalue": "cannot import name 'get_config' from 'yoda.tags' (/Users/j0l04cl/Documents/git_repo/yoda/yoda/tags.py)",
     "output_type": "error",
     "traceback": [
      "\u001b[0;31m---------------------------------------------------------------------------\u001b[0m",
      "\u001b[0;31mImportError\u001b[0m                               Traceback (most recent call last)",
      "\u001b[0;32m<ipython-input-78-c0d3fdd10e59>\u001b[0m in \u001b[0;36m<module>\u001b[0;34m\u001b[0m\n\u001b[0;32m----> 1\u001b[0;31m \u001b[0;32mfrom\u001b[0m \u001b[0myoda\u001b[0m\u001b[0;34m.\u001b[0m\u001b[0mtags\u001b[0m \u001b[0;32mimport\u001b[0m \u001b[0mget_config\u001b[0m\u001b[0;34m\u001b[0m\u001b[0;34m\u001b[0m\u001b[0m\n\u001b[0m",
      "\u001b[0;31mImportError\u001b[0m: cannot import name 'get_config' from 'yoda.tags' (/Users/j0l04cl/Documents/git_repo/yoda/yoda/tags.py)"
     ]
    }
   ],
   "source": [
    "from yoda.tags import get_config"
   ]
  },
  {
   "cell_type": "code",
   "execution_count": null,
   "metadata": {},
   "outputs": [],
   "source": []
  },
  {
   "cell_type": "code",
   "execution_count": null,
   "metadata": {},
   "outputs": [],
   "source": [
    "#export\n",
    "def get_config(path):\n",
    "    if is_run_on_local(path):\n",
    "        with open(path) as f:\n",
    "            return yaml.safe_load(f)\n",
    "    else:\n",
    "        with gcsfs().open(path) as f:\n",
    "            return yaml.safe_load(f)\n",
    "\n",
    "    \n",
    "def save_config(conf: dict, path: str):\n",
    "    if is_run_on_local(path):\n",
    "        with open(path, \"w\") as f:\n",
    "            yaml.safe_dump(conf, f)\n",
    "    else:\n",
    "        with gcsfs().open(path, \"w\") as f:\n",
    "            yaml.safe_dump(conf, f)"
   ]
  },
  {
   "cell_type": "code",
   "execution_count": null,
   "metadata": {},
   "outputs": [],
   "source": []
  }
 ],
 "metadata": {
  "kernelspec": {
   "display_name": "Python 3.7.6 64-bit ('yoda': conda)",
   "language": "python",
   "name": "python37664bityodaconda1761fd571982482b8d09f32c72d421ae"
  }
 },
 "nbformat": 4,
 "nbformat_minor": 2
}
