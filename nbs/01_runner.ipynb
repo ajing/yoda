{
 "cells": [
  {
   "cell_type": "code",
   "execution_count": null,
   "metadata": {},
   "outputs": [],
   "source": [
    "# default_exp runner"
   ]
  },
  {
   "cell_type": "code",
   "execution_count": null,
   "metadata": {},
   "outputs": [],
   "source": [
    "#export\n",
    "from datetime import datetime\n",
    "from functools import lru_cache\n",
    "import uuid\n",
    "import os\n",
    "from pathlib import Path\n",
    "import tempfile\n",
    "import yaml\n",
    "import google.cloud.logging\n",
    "from google.cloud.logging.handlers.handlers import CloudLoggingHandler, EXCLUDED_LOGGER_DEFAULTS\n",
    "\n",
    "import logging\n",
    "\n",
    "from blocks.filesystem import GCSFileSystem as gcsfs"
   ]
  },
  {
   "cell_type": "code",
   "execution_count": null,
   "metadata": {},
   "outputs": [],
   "source": [
    "class GCPConfig:\n",
    "\n",
    "    @staticmethod\n",
    "    @lru_cache(1)\n",
    "    def bucket():\n",
    "        return os.getenv(\"BUCKET\") or input(\"Please enter the bucket path: \").strip()\n",
    "\n",
    "    @staticmethod\n",
    "    @lru_cache(1)\n",
    "    def project_id():\n",
    "        return os.getenv(\"PROJECT_ID\") or google.auth.default()[1] or input(\"Please enter the project id: \").strip()\n",
    ""
   ]
  },
  {
   "cell_type": "code",
   "execution_count": null,
   "metadata": {},
   "outputs": [],
   "source": [
    "def _setup_logging():\n",
    "    job = os.environ.get(\"CLOUD_ML_JOB_ID\", None)\n",
    "    trial = os.environ.get(\"CLOUD_ML_TRIAL_ID\", None)\n",
    "    project = os.environ.get(\"GCP_PROJECT\", None)\n",
    "    if job and project:\n",
    "        client = google.cloud.logging.Client(project = project)\n",
    "        resource = Resource(type = \"ml_job\", labels = dict(job_id = job, project_id = project, task_name = \"master-replica-o\"))\n",
    "        # grouping by trial in AIP logs\n",
    "        labels = {\"ml.googleapis.com/trial_id\": trial} if trial is not None else None\n",
    "        handler = CloudLoggingHandler(client, resource=resource,labels=labels)\n",
    "        logger = logging.getLogger()\n",
    "        logger.handlers = []\n",
    "        logger.setLevel(logging.DEBUG)\n",
    "        logger.addHandler(handler)\n",
    "        for logger_name in EXCLUDED_LOGGER_DEFAULTS:\n",
    "            logging.getLogger(logger_name).propagate = False\n",
    "    else:\n",
    "        logger = logging.getLogger()\n",
    "        logger.setLevel(logging.DEBUG)"
   ]
  },
  {
   "cell_type": "code",
   "execution_count": null,
   "metadata": {},
   "outputs": [],
   "source": [
    "#export\n",
    "from googleapiclient import discovery\n",
    "import warnings\n",
    "\n",
    "class AIP:\n",
    "\n",
    "    @property\n",
    "    @lru_cache(1)\n",
    "    def job_id(self):\n",
    "        now = datetime.now()\n",
    "        date_time = now.strftime(\"%Y%m%d_%H%M%S\")\n",
    "        gen_uunid = hex(uuid.getnode())\n",
    "        return f\"ai_run_{date_time}_{gen_uunid}\"\n",
    "\n",
    "    @property\n",
    "    @lru_cache(1)\n",
    "    def job_output(self):\n",
    "        return GCPConfig.bucket()\n",
    "\n",
    "    def run(self, image: str, machine_type: str = \"n1-highmem-32\", args=[], **overrides):\n",
    "        \"\"\"\n",
    "\n",
    "        \"\"\"\n",
    "        # TODO: dealing with hyperparameters\n",
    "\n",
    "        training_inputs = {\n",
    "            \"scaleTier\": \"CUSTOM\",\n",
    "            \"masterType\": machine_type,\n",
    "            \"args\": args,\n",
    "            \"region\": \"us-central1\",\n",
    "            \"masterConfig\": {\"imageUri\": image}\n",
    "        }\n",
    "        training_inputs.update(overrides)\n",
    "        \n",
    "        job_spec = {\"jobId\": self.job_id, \"trainingInput\": training_inputs}\n",
    "        project_id = \"projects/{}\".format(GCPConfig.project_id())\n",
    "\n",
    "        _setup_logging()\n",
    "        with warnings.catch_warnings():\n",
    "            warnings.simplefilter(\"ignore\")\n",
    "            cloudml = discovery.build(\"ml\", \"v1\", cache_discovery = False)\n",
    "            request = cloudml.projects().jobs().create(body = job_spec, parent=project_id)\n",
    "            try:\n",
    "                return request.execute()\n",
    "            except e:\n",
    "                logging.warn(\"You may want to check whether the image is in registery\")\n",
    "                raise e"
   ]
  },
  {
   "cell_type": "code",
   "execution_count": null,
   "metadata": {},
   "outputs": [
    {
     "data": {
      "text/plain": "{'jobId': 'ai_run_20200629_184259_0x8c8590a5b94c',\n 'trainingInput': {'scaleTier': 'CUSTOM',\n  'masterType': 'n1-highmem-32',\n  'region': 'us-central1',\n  'masterConfig': {'imageUri': 'gcr.io/wmt-customer-tech-case-sci-dev/yoda'}},\n 'createTime': '2020-06-30T01:43:02Z',\n 'state': 'QUEUED',\n 'trainingOutput': {},\n 'etag': '67/mbu2qEHk='}"
     },
     "execution_count": null,
     "metadata": {},
     "output_type": "execute_result"
    }
   ],
   "source": [
    "import os\n",
    "import yaml\n",
    "\n",
    "with open(r'../credentials.yaml') as file:\n",
    "    creds = yaml.load(file, Loader=yaml.FullLoader)\n",
    "\n",
    "os.environ[\"GOOGLE_APPLICATION_CREDENTIALS\"] = creds[\"google_credentials\"]\n",
    "image_url = creds[\"image_url\"]\n",
    "\n",
    "AIP().run(image_url)"
   ]
  },
  {
   "cell_type": "code",
   "execution_count": null,
   "metadata": {},
   "outputs": [],
   "source": [
    "#export\n",
    "def _must_exist(key, dict_):\n",
    "    assert key in dict_, \"%r should be in the dictionary\" % key\n",
    "\n",
    "def _validate_config(conf_dict):\n",
    "    _must_exist(\"image\", conf_dict)\n",
    "    _must_exist(\"data\", conf_dict)\n",
    "    _must_exist(\"output_path\", conf_dict[\"data\"])\n",
    "\n",
    "def run_yoda_on_gcp(conf_dict):\n",
    "    # validate config\n",
    "    _validate_config(conf_dict)\n",
    "\n",
    "    # upload config to gcp\n",
    "    gcs_config_path = os.path.join(conf_dict[\"data\"][\"output_path\"], \"config.yaml\")\n",
    "    with gcsfs().open(gcs_config_path, \"w\") as f:\n",
    "        yaml.safe_dump(conf_dict, f)\n",
    "\n",
    "    # run on GCP\n",
    "    args=\"yoda run {}\".format(gcs_config_path).split()\n",
    "    image=conf_dict[\"image\"]\n",
    "    aip = AIP()\n",
    "    aip.run(image, args=args)"
   ]
  },
  {
   "cell_type": "code",
   "execution_count": null,
   "metadata": {},
   "outputs": [],
   "source": [
    "class FormatTag(yaml.YAMLObject):\n",
    "    \"\"\"\n",
    "    This tag supporting: NOW, EPOCH, and anything from environment variable\n",
    "    \"\"\"\n",
    "    yaml_tag = u'!format'\n",
    "    yaml_loader = yaml.SafeLoader\n",
    "\n",
    "    @classmethod\n",
    "    def from_yaml(cls, loader, node):\n",
    "        import calendar\n",
    "        import time\n",
    "\n",
    "        fillin_dict = dict(os.environ)\n",
    "        update_dict = {\n",
    "            \"NOW\": time.strftime(\"%Y%m%d_%H%M%S\"),\n",
    "            \"EPOCH\": calendar.timegm(time.gmtime()),\n",
    "        }\n",
    "        fillin_dict.update(update_dict)\n",
    "        values = loader.construct_scalar(node)\n",
    "        return values.format(**fillin_dict)"
   ]
  },
  {
   "cell_type": "code",
   "execution_count": null,
   "metadata": {},
   "outputs": [
    {
     "name": "stdout",
     "output_type": "stream",
     "text": "image: \"gcr.io/wmt-customer-tech-case-sci-dev/yoda:v2\"\ndata: \n  input_path: !format \"gs://{BUCKET}/{USER}/test/iris_data.csv\"\n  eval_path: !format \"gs://{BUCKET}/{USER}/test/iris_data.csv\"\n  output_path: !format \"gs://{BUCKET}/{USER}/test/output/\"\n  features: \"sepal_length,sepal_width,petal_length\"\n  label: species\ntrain:\n  estimator: xgboost.XGBClassifier\n  params:\n    max_depth: 4\n    num_estimator: 50\neval:\n  metrics: \"accuracy,f1_macro\"\n"
    }
   ],
   "source": [
    "config2 = '../data/configs/config2.yaml'\n",
    "with open(config2) as f:\n",
    "    print(f.read())\n",
    "\n",
    "os.environ[\"BUCKET\"] = \"testjobsubmit\"\n",
    "conf_dict2 = yaml.safe_load(open(config2))"
   ]
  },
  {
   "cell_type": "code",
   "execution_count": null,
   "metadata": {},
   "outputs": [
    {
     "data": {
      "text/plain": "{'image': 'gcr.io/wmt-customer-tech-case-sci-dev/yoda:v2',\n 'data': {'input_path': 'gs://testjobsubmit/j0l04cl/test/iris_data.csv',\n  'eval_path': 'gs://testjobsubmit/j0l04cl/test/iris_data.csv',\n  'output_path': 'gs://testjobsubmit/j0l04cl/test/output/',\n  'features': 'sepal_length,sepal_width,petal_length',\n  'label': 'species'},\n 'train': {'estimator': 'xgboost.XGBClassifier',\n  'params': {'max_depth': 4, 'num_estimator': 50}},\n 'eval': {'metrics': 'accuracy,f1_macro'}}"
     },
     "execution_count": null,
     "metadata": {},
     "output_type": "execute_result"
    }
   ],
   "source": [
    "conf_dict2"
   ]
  },
  {
   "cell_type": "code",
   "execution_count": null,
   "metadata": {},
   "outputs": [],
   "source": [
    "conf_dict2[\"image\"] = 'gcr.io/wmt-customer-tech-case-sci-dev/yoda:test'"
   ]
  },
  {
   "cell_type": "code",
   "execution_count": null,
   "metadata": {},
   "outputs": [
    {
     "data": {
      "text/plain": "{'image': 'gcr.io/wmt-customer-tech-case-sci-dev/yoda:test',\n 'data': {'input_path': 'gs://testjobsubmit/j0l04cl/test/iris_data.csv',\n  'eval_path': 'gs://testjobsubmit/j0l04cl/test/iris_data.csv',\n  'output_path': 'gs://testjobsubmit/j0l04cl/test/output/',\n  'features': 'sepal_length,sepal_width,petal_length',\n  'label': 'species'},\n 'train': {'estimator': 'xgboost.XGBClassifier',\n  'params': {'max_depth': 4, 'num_estimator': 50}},\n 'eval': {'metrics': 'accuracy,f1_macro'}}"
     },
     "execution_count": null,
     "metadata": {},
     "output_type": "execute_result"
    }
   ],
   "source": [
    "conf_dict2"
   ]
  },
  {
   "cell_type": "code",
   "execution_count": null,
   "metadata": {},
   "outputs": [
    {
     "name": "stderr",
     "output_type": "stream",
     "text": "INFO:root:Copying /var/folders/2k/b58ly_192yjgtv76zjxqj6f8_9cn2g/T/tmpnlk15dqr to gs://testjobsubmit/j0l04cl/test/output/config.yaml...\nDEBUG:googleapiclient.discovery:URL being requested: GET https://www.googleapis.com/discovery/v1/apis/ml/v1/rest\nDEBUG:googleapiclient.discovery:URL being requested: POST https://ml.googleapis.com/v1/projects/wmt-customer-tech-case-sci-dev/jobs?alt=json\nDEBUG:google_auth_httplib2:Making request: POST https://oauth2.googleapis.com/token\n"
    }
   ],
   "source": [
    "run_yoda_on_gcp(conf_dict2)"
   ]
  },
  {
   "cell_type": "code",
   "execution_count": null,
   "metadata": {},
   "outputs": [],
   "source": []
  }
 ],
 "metadata": {
  "kernelspec": {
   "display_name": "Python 3.7.6 64-bit ('yoda': conda)",
   "language": "python",
   "name": "python37664bityodaconda5756a806c80f457aaf1b2db6bed18ad8"
  }
 },
 "nbformat": 4,
 "nbformat_minor": 2
}
