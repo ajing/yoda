{
 "cells": [
  {
   "cell_type": "code",
   "execution_count": null,
   "metadata": {},
   "outputs": [],
   "source": [
    "#default_exp runner"
   ]
  },
  {
   "cell_type": "code",
   "execution_count": null,
   "metadata": {},
   "outputs": [],
   "source": [
    "%load_ext autoreload\n",
    "%autoreload 2"
   ]
  },
  {
   "cell_type": "code",
   "execution_count": null,
   "metadata": {},
   "outputs": [],
   "source": [
    "#export\n",
    "import blocks\n",
    "import logging\n",
    "import os\n",
    "import tempfile\n",
    "import uuid\n",
    "import warnings\n",
    "import yaml\n",
    "import pickle\n",
    "\n",
    "from io import TextIOWrapper\n",
    "from datetime import datetime\n",
    "from functools import lru_cache\n",
    "from pathlib import Path\n",
    "from blocks.filesystem import GCSFileSystem as gcsfs\n",
    "from googleapiclient import discovery\n",
    "from google.cloud.logging.handlers.handlers import CloudLoggingHandler, EXCLUDED_LOGGER_DEFAULTS\n",
    "import google.cloud.logging\n",
    "\n",
    "from yoda import tags"
   ]
  },
  {
   "cell_type": "markdown",
   "metadata": {},
   "source": [
    "# Shared"
   ]
  },
  {
   "cell_type": "markdown",
   "metadata": {},
   "source": [
    "## Data class\n",
    "\n",
    "For keeping track of all data related objects and don't reload data."
   ]
  },
  {
   "cell_type": "code",
   "execution_count": null,
   "metadata": {},
   "outputs": [],
   "source": [
    "#export\n",
    "class Data:\n",
    "    def __init__(self,\n",
    "                 input_path: str,\n",
    "                 output_path: str,\n",
    "                 features: str,\n",
    "                 label: str,\n",
    "                 **kwargs):\n",
    "        self.input_path = input_path\n",
    "        self.output_path = output_path\n",
    "        self.feature_list = features.split(\",\")\n",
    "        self.label = label\n",
    "        self.eval_path = kwargs.get(\"eval_path\", None)\n",
    "        self.score_path = kwargs.get(\"score_path\", None)\n",
    "        self.is_gcp = input_path.startswith(\"gs://\")\n",
    "\n",
    "    @property\n",
    "    @lru_cache(1)\n",
    "    def df(self):\n",
    "        return blocks.assemble(self.input_path)\n",
    "\n",
    "    @property\n",
    "    def X(self):\n",
    "        return self.df[self.feature_list]\n",
    "\n",
    "    @property\n",
    "    def y(self):\n",
    "        return self.df[self.label]\n",
    "\n",
    "    @property\n",
    "    @lru_cache(1)\n",
    "    def eval_df(self):\n",
    "        if not self.eval_path:\n",
    "            raise Exception(\"Please specify the eval_path\")\n",
    "        return blocks.assemble(self.eval_path)\n",
    "\n",
    "    @property\n",
    "    def eval_X(self):\n",
    "        return self.eval_df[self.feature_list]\n",
    "\n",
    "    @property\n",
    "    def eval_y(self):\n",
    "        return self.eval_df[self.label]\n",
    "\n",
    "    @property\n",
    "    @lru_cache(1)\n",
    "    def score_df(self):\n",
    "        if not self.score_path:\n",
    "            raise Exception(\"Please specify the score_path\")\n",
    "        return blocks.assemble(self.score_path)\n",
    "\n",
    "    @property\n",
    "    def score_X(self):\n",
    "        return self.score_df[self.feature_list]\n",
    "\n",
    "    def open(self, filename) -> TextIOWrapper:\n",
    "        full_path = os.path.join(self.output_path, filename)\n",
    "        opener = gcsfs().open if self.is_gcp else open\n",
    "        with opener(full_path) as fobj:\n",
    "            yield fobj"
   ]
  },
  {
   "cell_type": "markdown",
   "metadata": {},
   "source": [
    "## Model"
   ]
  },
  {
   "cell_type": "code",
   "execution_count": null,
   "metadata": {},
   "outputs": [],
   "source": [
    "#export\n",
    "def _import_from_string(classname: str):\n",
    "    components = classname.split('.')\n",
    "    mod = __import__(components[0])\n",
    "    for comp in components[1:]:\n",
    "        mod = getattr(mod, comp)\n",
    "    return mod\n",
    "\n",
    "\n",
    "def _parse_model_dict(model_dict: dict):\n",
    "    if \"model_code\" in model_dict:\n",
    "        global_dict = dict()\n",
    "        exec(model_dict[\"model_code\"], global_dict)\n",
    "        model_class = global_dict[model_dict[\"estimator\"]]\n",
    "    else:\n",
    "        model_class = _import_from_string(model_dict[\"estimator\"])\n",
    "\n",
    "    def save(self, fileobj):\n",
    "        pickle.dump(self, fileobj)\n",
    "\n",
    "    setattr(model_class, \"save\", save)\n",
    "    return model_class"
   ]
  },
  {
   "cell_type": "code",
   "execution_count": null,
   "metadata": {},
   "outputs": [
    {
     "data": {
      "text/plain": [
       "xgboost.sklearn.XGBClassifier"
      ]
     },
     "execution_count": null,
     "metadata": {},
     "output_type": "execute_result"
    }
   ],
   "source": [
    "model_conf = {\"estimator\": \"xgboost.XGBClassifier\"}\n",
    "\n",
    "_parse_model_dict(model_conf)"
   ]
  },
  {
   "cell_type": "code",
   "execution_count": null,
   "metadata": {},
   "outputs": [
    {
     "data": {
      "text/plain": [
       "LGBExt"
      ]
     },
     "execution_count": null,
     "metadata": {},
     "output_type": "execute_result"
    }
   ],
   "source": [
    "model_conf = {\"model_code\": open(\"../data/models/LGBDefault.py\").read(),\n",
    "              \"estimator\": \"LGBExt\"}\n",
    "\n",
    "_parse_model_dict(model_conf)"
   ]
  },
  {
   "cell_type": "markdown",
   "metadata": {},
   "source": [
    "## Evaluation"
   ]
  },
  {
   "cell_type": "code",
   "execution_count": null,
   "metadata": {},
   "outputs": [],
   "source": [
    "#export\n",
    "def _eval(estimator: sklearn.base.BaseEstimator = None,\n",
    "          data: Data = None,\n",
    "          cv=None,\n",
    "          metrics: str = None) -> dict:\n",
    "    if data.eval_path is not None and cv is not None:\n",
    "        raise Exception(\n",
    "            \"eval_path: (%s) and cv: (%s) cannot co-exist\" % (data.eval_path, cv))\n",
    "\n",
    "    eval_res = dict()\n",
    "    for metric in metrics:\n",
    "        if data.eval_path is not None:\n",
    "            estimator.fit(data.X, data.y)\n",
    "            scorer = sklearn.metrics.SCORERS[metric]\n",
    "            avg, sd = scorer(estimator, data.eval_X, data.eval_y), 0\n",
    "        if cv is not None:\n",
    "            scores = cross_val_score(\n",
    "                estimator, data.X, data.y, cv=cv, scoring=metric)\n",
    "            avg, sd = np.mean(scores), np.std(scores)\n",
    "\n",
    "        eval_res[metric] = {\"sd\": sd, \"avg\": avg}\n",
    "    return eval_res\n",
    "\n",
    "\n",
    "def run_eval(conf_dict: dict, data: Data, estimator, output_dir: str = \"eval.pkl\"):\n",
    "    eval_path = data.eval_path\n",
    "    metrics_str = conf_dict[\"eval\"].get(\"metrics\")\n",
    "    cv = conf_dict[\"eval\"].get(\"cv\")\n",
    "    metrics = metrics_str.split(\",\") if metrics_str else None\n",
    "    result = _eval(estimator, data, cv, metrics)\n",
    "    conf_cp = dict(conf_dict)\n",
    "    conf_cp[\"eval_result\"] = result\n",
    "    # TODO: consider to create an class here and do\n",
    "    # evaluate.save()\n",
    "    if output_dir:\n",
    "        pickle.dump(conf_cp, data.open(output_dir))\n",
    "    return result"
   ]
  },
  {
   "cell_type": "markdown",
   "metadata": {},
   "source": [
    "# Run on local"
   ]
  },
  {
   "cell_type": "code",
   "execution_count": null,
   "metadata": {},
   "outputs": [],
   "source": [
    "#export\n",
    "def run_on_local(conf_dict: dict):\n",
    "    data = Data(**conf_dict['data'])\n",
    "    model = _parse_model_dict(conf_dict['model'])\n",
    "    if \"eval\" in conf_dict or data.eval_path:\n",
    "        run_eval(conf_dict, data, train.estimator)\n",
    "    else:\n",
    "        train.fit(data.X, data.y)\n",
    "        train.save(data.open(\"model.pkl\"))"
   ]
  },
  {
   "cell_type": "code",
   "execution_count": null,
   "metadata": {},
   "outputs": [
    {
     "name": "stdout",
     "output_type": "stream",
     "text": [
      "data: \n",
      "  input_df: !data \"../data/iris_data.csv\"\n",
      "  eval_df: !data \"../data/iris_data.csv\"\n",
      "  output_path: \"../output/\"\n",
      "  features: \"sepal_length,sepal_width,petal_length\"\n",
      "  label: species\n",
      "model:\n",
      "  estimator: xgboost.XGBClassifier\n",
      "  params:\n",
      "    max_depth: 4\n",
      "    num_estimator: 50\n",
      "eval:\n",
      "  metrics: \"accuracy,f1_macro\"\n"
     ]
    },
    {
     "ename": "NameError",
     "evalue": "name 'os' is not defined",
     "output_type": "error",
     "traceback": [
      "\u001b[0;31m-----------------------------------------------\u001b[0m",
      "\u001b[0;31mNameError\u001b[0m     Traceback (most recent call last)",
      "\u001b[0;32m<ipython-input-39-4f235238b285>\u001b[0m in \u001b[0;36m<module>\u001b[0;34m\u001b[0m\n\u001b[1;32m      3\u001b[0m     \u001b[0mprint\u001b[0m\u001b[0;34m(\u001b[0m\u001b[0mf\u001b[0m\u001b[0;34m.\u001b[0m\u001b[0mread\u001b[0m\u001b[0;34m(\u001b[0m\u001b[0;34m)\u001b[0m\u001b[0;34m)\u001b[0m\u001b[0;34m\u001b[0m\u001b[0;34m\u001b[0m\u001b[0m\n\u001b[1;32m      4\u001b[0m \u001b[0;34m\u001b[0m\u001b[0m\n\u001b[0;32m----> 5\u001b[0;31m \u001b[0mconf\u001b[0m \u001b[0;34m=\u001b[0m \u001b[0myaml\u001b[0m\u001b[0;34m.\u001b[0m\u001b[0msafe_load\u001b[0m\u001b[0;34m(\u001b[0m\u001b[0mopen\u001b[0m\u001b[0;34m(\u001b[0m\u001b[0mconfig1\u001b[0m\u001b[0;34m)\u001b[0m\u001b[0;34m)\u001b[0m\u001b[0;34m\u001b[0m\u001b[0;34m\u001b[0m\u001b[0m\n\u001b[0m\u001b[1;32m      6\u001b[0m \u001b[0;34m\u001b[0m\u001b[0m\n",
      "\u001b[0;32m~/anaconda3/envs/yoda/lib/python3.7/site-packages/yaml/__init__.py\u001b[0m in \u001b[0;36msafe_load\u001b[0;34m(stream)\u001b[0m\n\u001b[1;32m    160\u001b[0m     \u001b[0mto\u001b[0m \u001b[0mbe\u001b[0m \u001b[0msafe\u001b[0m \u001b[0;32mfor\u001b[0m \u001b[0muntrusted\u001b[0m \u001b[0minput\u001b[0m\u001b[0;34m.\u001b[0m\u001b[0;34m\u001b[0m\u001b[0;34m\u001b[0m\u001b[0m\n\u001b[1;32m    161\u001b[0m     \"\"\"\n\u001b[0;32m--> 162\u001b[0;31m     \u001b[0;32mreturn\u001b[0m \u001b[0mload\u001b[0m\u001b[0;34m(\u001b[0m\u001b[0mstream\u001b[0m\u001b[0;34m,\u001b[0m \u001b[0mSafeLoader\u001b[0m\u001b[0;34m)\u001b[0m\u001b[0;34m\u001b[0m\u001b[0;34m\u001b[0m\u001b[0m\n\u001b[0m\u001b[1;32m    163\u001b[0m \u001b[0;34m\u001b[0m\u001b[0m\n\u001b[1;32m    164\u001b[0m \u001b[0;32mdef\u001b[0m \u001b[0msafe_load_all\u001b[0m\u001b[0;34m(\u001b[0m\u001b[0mstream\u001b[0m\u001b[0;34m)\u001b[0m\u001b[0;34m:\u001b[0m\u001b[0;34m\u001b[0m\u001b[0;34m\u001b[0m\u001b[0m\n",
      "\u001b[0;32m~/anaconda3/envs/yoda/lib/python3.7/site-packages/yaml/__init__.py\u001b[0m in \u001b[0;36mload\u001b[0;34m(stream, Loader)\u001b[0m\n\u001b[1;32m    112\u001b[0m     \u001b[0mloader\u001b[0m \u001b[0;34m=\u001b[0m \u001b[0mLoader\u001b[0m\u001b[0;34m(\u001b[0m\u001b[0mstream\u001b[0m\u001b[0;34m)\u001b[0m\u001b[0;34m\u001b[0m\u001b[0;34m\u001b[0m\u001b[0m\n\u001b[1;32m    113\u001b[0m     \u001b[0;32mtry\u001b[0m\u001b[0;34m:\u001b[0m\u001b[0;34m\u001b[0m\u001b[0;34m\u001b[0m\u001b[0m\n\u001b[0;32m--> 114\u001b[0;31m         \u001b[0;32mreturn\u001b[0m \u001b[0mloader\u001b[0m\u001b[0;34m.\u001b[0m\u001b[0mget_single_data\u001b[0m\u001b[0;34m(\u001b[0m\u001b[0;34m)\u001b[0m\u001b[0;34m\u001b[0m\u001b[0;34m\u001b[0m\u001b[0m\n\u001b[0m\u001b[1;32m    115\u001b[0m     \u001b[0;32mfinally\u001b[0m\u001b[0;34m:\u001b[0m\u001b[0;34m\u001b[0m\u001b[0;34m\u001b[0m\u001b[0m\n\u001b[1;32m    116\u001b[0m         \u001b[0mloader\u001b[0m\u001b[0;34m.\u001b[0m\u001b[0mdispose\u001b[0m\u001b[0;34m(\u001b[0m\u001b[0;34m)\u001b[0m\u001b[0;34m\u001b[0m\u001b[0;34m\u001b[0m\u001b[0m\n",
      "\u001b[0;32m~/anaconda3/envs/yoda/lib/python3.7/site-packages/yaml/constructor.py\u001b[0m in \u001b[0;36mget_single_data\u001b[0;34m(self)\u001b[0m\n\u001b[1;32m     49\u001b[0m         \u001b[0mnode\u001b[0m \u001b[0;34m=\u001b[0m \u001b[0mself\u001b[0m\u001b[0;34m.\u001b[0m\u001b[0mget_single_node\u001b[0m\u001b[0;34m(\u001b[0m\u001b[0;34m)\u001b[0m\u001b[0;34m\u001b[0m\u001b[0;34m\u001b[0m\u001b[0m\n\u001b[1;32m     50\u001b[0m         \u001b[0;32mif\u001b[0m \u001b[0mnode\u001b[0m \u001b[0;32mis\u001b[0m \u001b[0;32mnot\u001b[0m \u001b[0;32mNone\u001b[0m\u001b[0;34m:\u001b[0m\u001b[0;34m\u001b[0m\u001b[0;34m\u001b[0m\u001b[0m\n\u001b[0;32m---> 51\u001b[0;31m             \u001b[0;32mreturn\u001b[0m \u001b[0mself\u001b[0m\u001b[0;34m.\u001b[0m\u001b[0mconstruct_document\u001b[0m\u001b[0;34m(\u001b[0m\u001b[0mnode\u001b[0m\u001b[0;34m)\u001b[0m\u001b[0;34m\u001b[0m\u001b[0;34m\u001b[0m\u001b[0m\n\u001b[0m\u001b[1;32m     52\u001b[0m         \u001b[0;32mreturn\u001b[0m \u001b[0;32mNone\u001b[0m\u001b[0;34m\u001b[0m\u001b[0;34m\u001b[0m\u001b[0m\n\u001b[1;32m     53\u001b[0m \u001b[0;34m\u001b[0m\u001b[0m\n",
      "\u001b[0;32m~/anaconda3/envs/yoda/lib/python3.7/site-packages/yaml/constructor.py\u001b[0m in \u001b[0;36mconstruct_document\u001b[0;34m(self, node)\u001b[0m\n\u001b[1;32m     58\u001b[0m             \u001b[0mself\u001b[0m\u001b[0;34m.\u001b[0m\u001b[0mstate_generators\u001b[0m \u001b[0;34m=\u001b[0m \u001b[0;34m[\u001b[0m\u001b[0;34m]\u001b[0m\u001b[0;34m\u001b[0m\u001b[0;34m\u001b[0m\u001b[0m\n\u001b[1;32m     59\u001b[0m             \u001b[0;32mfor\u001b[0m \u001b[0mgenerator\u001b[0m \u001b[0;32min\u001b[0m \u001b[0mstate_generators\u001b[0m\u001b[0;34m:\u001b[0m\u001b[0;34m\u001b[0m\u001b[0;34m\u001b[0m\u001b[0m\n\u001b[0;32m---> 60\u001b[0;31m                 \u001b[0;32mfor\u001b[0m \u001b[0mdummy\u001b[0m \u001b[0;32min\u001b[0m \u001b[0mgenerator\u001b[0m\u001b[0;34m:\u001b[0m\u001b[0;34m\u001b[0m\u001b[0;34m\u001b[0m\u001b[0m\n\u001b[0m\u001b[1;32m     61\u001b[0m                     \u001b[0;32mpass\u001b[0m\u001b[0;34m\u001b[0m\u001b[0;34m\u001b[0m\u001b[0m\n\u001b[1;32m     62\u001b[0m         \u001b[0mself\u001b[0m\u001b[0;34m.\u001b[0m\u001b[0mconstructed_objects\u001b[0m \u001b[0;34m=\u001b[0m \u001b[0;34m{\u001b[0m\u001b[0;34m}\u001b[0m\u001b[0;34m\u001b[0m\u001b[0;34m\u001b[0m\u001b[0m\n",
      "\u001b[0;32m~/anaconda3/envs/yoda/lib/python3.7/site-packages/yaml/constructor.py\u001b[0m in \u001b[0;36mconstruct_yaml_map\u001b[0;34m(self, node)\u001b[0m\n\u001b[1;32m    411\u001b[0m         \u001b[0mdata\u001b[0m \u001b[0;34m=\u001b[0m \u001b[0;34m{\u001b[0m\u001b[0;34m}\u001b[0m\u001b[0;34m\u001b[0m\u001b[0;34m\u001b[0m\u001b[0m\n\u001b[1;32m    412\u001b[0m         \u001b[0;32myield\u001b[0m \u001b[0mdata\u001b[0m\u001b[0;34m\u001b[0m\u001b[0;34m\u001b[0m\u001b[0m\n\u001b[0;32m--> 413\u001b[0;31m         \u001b[0mvalue\u001b[0m \u001b[0;34m=\u001b[0m \u001b[0mself\u001b[0m\u001b[0;34m.\u001b[0m\u001b[0mconstruct_mapping\u001b[0m\u001b[0;34m(\u001b[0m\u001b[0mnode\u001b[0m\u001b[0;34m)\u001b[0m\u001b[0;34m\u001b[0m\u001b[0;34m\u001b[0m\u001b[0m\n\u001b[0m\u001b[1;32m    414\u001b[0m         \u001b[0mdata\u001b[0m\u001b[0;34m.\u001b[0m\u001b[0mupdate\u001b[0m\u001b[0;34m(\u001b[0m\u001b[0mvalue\u001b[0m\u001b[0;34m)\u001b[0m\u001b[0;34m\u001b[0m\u001b[0;34m\u001b[0m\u001b[0m\n\u001b[1;32m    415\u001b[0m \u001b[0;34m\u001b[0m\u001b[0m\n",
      "\u001b[0;32m~/anaconda3/envs/yoda/lib/python3.7/site-packages/yaml/constructor.py\u001b[0m in \u001b[0;36mconstruct_mapping\u001b[0;34m(self, node, deep)\u001b[0m\n\u001b[1;32m    216\u001b[0m         \u001b[0;32mif\u001b[0m \u001b[0misinstance\u001b[0m\u001b[0;34m(\u001b[0m\u001b[0mnode\u001b[0m\u001b[0;34m,\u001b[0m \u001b[0mMappingNode\u001b[0m\u001b[0;34m)\u001b[0m\u001b[0;34m:\u001b[0m\u001b[0;34m\u001b[0m\u001b[0;34m\u001b[0m\u001b[0m\n\u001b[1;32m    217\u001b[0m             \u001b[0mself\u001b[0m\u001b[0;34m.\u001b[0m\u001b[0mflatten_mapping\u001b[0m\u001b[0;34m(\u001b[0m\u001b[0mnode\u001b[0m\u001b[0;34m)\u001b[0m\u001b[0;34m\u001b[0m\u001b[0;34m\u001b[0m\u001b[0m\n\u001b[0;32m--> 218\u001b[0;31m         \u001b[0;32mreturn\u001b[0m \u001b[0msuper\u001b[0m\u001b[0;34m(\u001b[0m\u001b[0;34m)\u001b[0m\u001b[0;34m.\u001b[0m\u001b[0mconstruct_mapping\u001b[0m\u001b[0;34m(\u001b[0m\u001b[0mnode\u001b[0m\u001b[0;34m,\u001b[0m \u001b[0mdeep\u001b[0m\u001b[0;34m=\u001b[0m\u001b[0mdeep\u001b[0m\u001b[0;34m)\u001b[0m\u001b[0;34m\u001b[0m\u001b[0;34m\u001b[0m\u001b[0m\n\u001b[0m\u001b[1;32m    219\u001b[0m \u001b[0;34m\u001b[0m\u001b[0m\n\u001b[1;32m    220\u001b[0m     \u001b[0;32mdef\u001b[0m \u001b[0mconstruct_yaml_null\u001b[0m\u001b[0;34m(\u001b[0m\u001b[0mself\u001b[0m\u001b[0;34m,\u001b[0m \u001b[0mnode\u001b[0m\u001b[0;34m)\u001b[0m\u001b[0;34m:\u001b[0m\u001b[0;34m\u001b[0m\u001b[0;34m\u001b[0m\u001b[0m\n",
      "\u001b[0;32m~/anaconda3/envs/yoda/lib/python3.7/site-packages/yaml/constructor.py\u001b[0m in \u001b[0;36mconstruct_mapping\u001b[0;34m(self, node, deep)\u001b[0m\n\u001b[1;32m    141\u001b[0m                 raise ConstructorError(\"while constructing a mapping\", node.start_mark,\n\u001b[1;32m    142\u001b[0m                         \"found unhashable key\", key_node.start_mark)\n\u001b[0;32m--> 143\u001b[0;31m             \u001b[0mvalue\u001b[0m \u001b[0;34m=\u001b[0m \u001b[0mself\u001b[0m\u001b[0;34m.\u001b[0m\u001b[0mconstruct_object\u001b[0m\u001b[0;34m(\u001b[0m\u001b[0mvalue_node\u001b[0m\u001b[0;34m,\u001b[0m \u001b[0mdeep\u001b[0m\u001b[0;34m=\u001b[0m\u001b[0mdeep\u001b[0m\u001b[0;34m)\u001b[0m\u001b[0;34m\u001b[0m\u001b[0;34m\u001b[0m\u001b[0m\n\u001b[0m\u001b[1;32m    144\u001b[0m             \u001b[0mmapping\u001b[0m\u001b[0;34m[\u001b[0m\u001b[0mkey\u001b[0m\u001b[0;34m]\u001b[0m \u001b[0;34m=\u001b[0m \u001b[0mvalue\u001b[0m\u001b[0;34m\u001b[0m\u001b[0;34m\u001b[0m\u001b[0m\n\u001b[1;32m    145\u001b[0m         \u001b[0;32mreturn\u001b[0m \u001b[0mmapping\u001b[0m\u001b[0;34m\u001b[0m\u001b[0;34m\u001b[0m\u001b[0m\n",
      "\u001b[0;32m~/anaconda3/envs/yoda/lib/python3.7/site-packages/yaml/constructor.py\u001b[0m in \u001b[0;36mconstruct_object\u001b[0;34m(self, node, deep)\u001b[0m\n\u001b[1;32m     98\u001b[0m                     \u001b[0mconstructor\u001b[0m \u001b[0;34m=\u001b[0m \u001b[0mself\u001b[0m\u001b[0;34m.\u001b[0m\u001b[0m__class__\u001b[0m\u001b[0;34m.\u001b[0m\u001b[0mconstruct_mapping\u001b[0m\u001b[0;34m\u001b[0m\u001b[0;34m\u001b[0m\u001b[0m\n\u001b[1;32m     99\u001b[0m         \u001b[0;32mif\u001b[0m \u001b[0mtag_suffix\u001b[0m \u001b[0;32mis\u001b[0m \u001b[0;32mNone\u001b[0m\u001b[0;34m:\u001b[0m\u001b[0;34m\u001b[0m\u001b[0;34m\u001b[0m\u001b[0m\n\u001b[0;32m--> 100\u001b[0;31m             \u001b[0mdata\u001b[0m \u001b[0;34m=\u001b[0m \u001b[0mconstructor\u001b[0m\u001b[0;34m(\u001b[0m\u001b[0mself\u001b[0m\u001b[0;34m,\u001b[0m \u001b[0mnode\u001b[0m\u001b[0;34m)\u001b[0m\u001b[0;34m\u001b[0m\u001b[0;34m\u001b[0m\u001b[0m\n\u001b[0m\u001b[1;32m    101\u001b[0m         \u001b[0;32melse\u001b[0m\u001b[0;34m:\u001b[0m\u001b[0;34m\u001b[0m\u001b[0;34m\u001b[0m\u001b[0m\n\u001b[1;32m    102\u001b[0m             \u001b[0mdata\u001b[0m \u001b[0;34m=\u001b[0m \u001b[0mconstructor\u001b[0m\u001b[0;34m(\u001b[0m\u001b[0mself\u001b[0m\u001b[0;34m,\u001b[0m \u001b[0mtag_suffix\u001b[0m\u001b[0;34m,\u001b[0m \u001b[0mnode\u001b[0m\u001b[0;34m)\u001b[0m\u001b[0;34m\u001b[0m\u001b[0;34m\u001b[0m\u001b[0m\n",
      "\u001b[0;32m~/Documents/git_repo/yoda/yoda/tags.py\u001b[0m in \u001b[0;36mfrom_yaml\u001b[0;34m(cls, loader, node)\u001b[0m\n\u001b[1;32m     31\u001b[0m     \u001b[0;32mdef\u001b[0m \u001b[0mfrom_yaml\u001b[0m\u001b[0;34m(\u001b[0m\u001b[0mcls\u001b[0m\u001b[0;34m,\u001b[0m \u001b[0mloader\u001b[0m\u001b[0;34m,\u001b[0m \u001b[0mnode\u001b[0m\u001b[0;34m)\u001b[0m\u001b[0;34m:\u001b[0m\u001b[0;34m\u001b[0m\u001b[0;34m\u001b[0m\u001b[0m\n\u001b[1;32m     32\u001b[0m         \u001b[0mfilename\u001b[0m \u001b[0;34m=\u001b[0m \u001b[0mloader\u001b[0m\u001b[0;34m.\u001b[0m\u001b[0mconstruct_scalar\u001b[0m\u001b[0;34m(\u001b[0m\u001b[0mnode\u001b[0m\u001b[0;34m)\u001b[0m\u001b[0;34m\u001b[0m\u001b[0;34m\u001b[0m\u001b[0m\n\u001b[0;32m---> 33\u001b[0;31m         \u001b[0mfilename\u001b[0m \u001b[0;34m=\u001b[0m \u001b[0m_interpolate_string\u001b[0m\u001b[0;34m(\u001b[0m\u001b[0mfilename\u001b[0m\u001b[0;34m)\u001b[0m\u001b[0;34m\u001b[0m\u001b[0;34m\u001b[0m\u001b[0m\n\u001b[0m\u001b[1;32m     34\u001b[0m         \u001b[0;32mreturn\u001b[0m \u001b[0mblocks\u001b[0m\u001b[0;34m.\u001b[0m\u001b[0massemble\u001b[0m\u001b[0;34m(\u001b[0m\u001b[0mfilename\u001b[0m\u001b[0;34m)\u001b[0m\u001b[0;34m\u001b[0m\u001b[0;34m\u001b[0m\u001b[0m\n\u001b[1;32m     35\u001b[0m \u001b[0;34m\u001b[0m\u001b[0m\n",
      "\u001b[0;32m~/Documents/git_repo/yoda/yoda/tags.py\u001b[0m in \u001b[0;36m_interpolate_string\u001b[0;34m(input_string)\u001b[0m\n\u001b[1;32m     12\u001b[0m \u001b[0;31m# Cell\u001b[0m\u001b[0;34m\u001b[0m\u001b[0;34m\u001b[0m\u001b[0;34m\u001b[0m\u001b[0m\n\u001b[1;32m     13\u001b[0m \u001b[0;32mdef\u001b[0m \u001b[0m_interpolate_string\u001b[0m\u001b[0;34m(\u001b[0m\u001b[0minput_string\u001b[0m\u001b[0;34m:\u001b[0m \u001b[0mstr\u001b[0m\u001b[0;34m)\u001b[0m\u001b[0;34m:\u001b[0m\u001b[0;34m\u001b[0m\u001b[0;34m\u001b[0m\u001b[0m\n\u001b[0;32m---> 14\u001b[0;31m     \u001b[0mfillin_dict\u001b[0m \u001b[0;34m=\u001b[0m \u001b[0mdict\u001b[0m\u001b[0;34m(\u001b[0m\u001b[0mos\u001b[0m\u001b[0;34m.\u001b[0m\u001b[0menviron\u001b[0m\u001b[0;34m)\u001b[0m\u001b[0;34m\u001b[0m\u001b[0;34m\u001b[0m\u001b[0m\n\u001b[0m\u001b[1;32m     15\u001b[0m     update_dict = {\n\u001b[1;32m     16\u001b[0m         \u001b[0;34m\"NOW\"\u001b[0m\u001b[0;34m:\u001b[0m \u001b[0mtime\u001b[0m\u001b[0;34m.\u001b[0m\u001b[0mstrftime\u001b[0m\u001b[0;34m(\u001b[0m\u001b[0;34m\"%Y%m%d_%H%M%S\"\u001b[0m\u001b[0;34m)\u001b[0m\u001b[0;34m,\u001b[0m\u001b[0;34m\u001b[0m\u001b[0;34m\u001b[0m\u001b[0m\n",
      "\u001b[0;31mNameError\u001b[0m: name 'os' is not defined"
     ]
    }
   ],
   "source": [
    "config1 = '../data/configs/config1.yaml'\n",
    "with open(config1) as f:\n",
    "    print(f.read())\n",
    "\n",
    "conf = yaml.safe_load(open(config1))"
   ]
  },
  {
   "cell_type": "markdown",
   "metadata": {},
   "source": [
    "# Run on GCP"
   ]
  },
  {
   "cell_type": "code",
   "execution_count": null,
   "metadata": {},
   "outputs": [],
   "source": [
    "#export\n",
    "class GCPConfig:\n",
    "    @staticmethod\n",
    "    @lru_cache(1)\n",
    "    def bucket():\n",
    "        return os.getenv(\"BUCKET\") or input(\"Please enter the bucket path: \").strip()\n",
    "\n",
    "    @staticmethod\n",
    "    @lru_cache(1)\n",
    "    def project_id():\n",
    "        return os.getenv(\"PROJECT_ID\") or google.auth.default()[1] or input(\"Please enter the project id: \").strip()\n"
   ]
  },
  {
   "cell_type": "code",
   "execution_count": null,
   "metadata": {},
   "outputs": [],
   "source": [
    "#export\n",
    "def _setup_logging():\n",
    "    job = os.environ.get(\"CLOUD_ML_JOB_ID\", None)\n",
    "    trial = os.environ.get(\"CLOUD_ML_TRIAL_ID\", None)\n",
    "    project = os.environ.get(\"GCP_PROJECT\", None)\n",
    "    if job and project:\n",
    "        client = google.cloud.logging.Client(project = project)\n",
    "        resource = Resource(type = \"ml_job\", labels = dict(job_id = job, project_id = project, task_name = \"master-replica-o\"))\n",
    "        # grouping by trial in AIP logs\n",
    "        labels = {\"ml.googleapis.com/trial_id\": trial} if trial is not None else None\n",
    "        handler = CloudLoggingHandler(client, resource=resource,labels=labels)\n",
    "        logger = logging.getLogger()\n",
    "        logger.handlers = []\n",
    "        logger.setLevel(logging.DEBUG)\n",
    "        logger.addHandler(handler)\n",
    "        for logger_name in EXCLUDED_LOGGER_DEFAULTS:\n",
    "            logging.getLogger(logger_name).propagate = False\n",
    "    else:\n",
    "        logger = logging.getLogger()\n",
    "        logger.setLevel(logging.DEBUG)"
   ]
  },
  {
   "cell_type": "code",
   "execution_count": null,
   "metadata": {},
   "outputs": [],
   "source": [
    "#export\n",
    "class AIP:\n",
    "\n",
    "    @property\n",
    "    @lru_cache(1)\n",
    "    def job_id(self):\n",
    "        now = datetime.now()\n",
    "        date_time = now.strftime(\"%Y%m%d_%H%M%S\")\n",
    "        gen_uunid = hex(uuid.getnode())\n",
    "        return f\"ai_run_{date_time}_{gen_uunid}\"\n",
    "\n",
    "    @property\n",
    "    @lru_cache(1)\n",
    "    def job_output(self):\n",
    "        return GCPConfig.bucket()\n",
    "\n",
    "    def run(self, image: str, machine_type: str = \"n1-highmem-32\", args=[], **overrides):\n",
    "        \"\"\"\n",
    "\n",
    "        \"\"\"\n",
    "        # TODO: dealing with hyperparameters\n",
    "\n",
    "        training_inputs = {\n",
    "            \"scaleTier\": \"CUSTOM\",\n",
    "            \"masterType\": machine_type,\n",
    "            \"args\": args,\n",
    "            \"region\": \"us-central1\",\n",
    "            \"masterConfig\": {\"imageUri\": image}\n",
    "        }\n",
    "        training_inputs.update(overrides)\n",
    "\n",
    "        job_spec = {\"jobId\": self.job_id, \"trainingInput\": training_inputs}\n",
    "        project_id = \"projects/{}\".format(GCPConfig.project_id())\n",
    "\n",
    "        _setup_logging()\n",
    "        with warnings.catch_warnings():\n",
    "            warnings.simplefilter(\"ignore\")\n",
    "            cloudml = discovery.build(\"ml\", \"v1\", cache_discovery=False)\n",
    "            request = cloudml.projects().jobs().create(body=job_spec, parent=project_id)\n",
    "            try:\n",
    "                return request.execute()\n",
    "            except e:\n",
    "                logging.warn(\"You may want to check whether the image is in registery\")\n",
    "                raise e"
   ]
  },
  {
   "cell_type": "code",
   "execution_count": null,
   "metadata": {},
   "outputs": [
    {
     "name": "stderr",
     "output_type": "stream",
     "text": [
      "DEBUG:googleapiclient.discovery:URL being requested: GET https://www.googleapis.com/discovery/v1/apis/ml/v1/rest\n",
      "DEBUG:googleapiclient.discovery:URL being requested: POST https://ml.googleapis.com/v1/projects/wmt-customer-tech-case-sci-dev/jobs?alt=json\n",
      "DEBUG:google_auth_httplib2:Making request: POST https://oauth2.googleapis.com/token\n"
     ]
    },
    {
     "data": {
      "text/plain": [
       "{'jobId': 'ai_run_20200630_230635_0xacde48001122',\n",
       " 'trainingInput': {'scaleTier': 'CUSTOM',\n",
       "  'masterType': 'n1-highmem-32',\n",
       "  'region': 'us-central1',\n",
       "  'masterConfig': {'imageUri': 'gcr.io/wmt-customer-tech-case-sci-dev/yoda'}},\n",
       " 'createTime': '2020-07-01T06:06:38Z',\n",
       " 'state': 'QUEUED',\n",
       " 'trainingOutput': {},\n",
       " 'etag': 'Tvri1exxjCw='}"
      ]
     },
     "execution_count": null,
     "metadata": {},
     "output_type": "execute_result"
    }
   ],
   "source": [
    "import os\n",
    "import yaml\n",
    "\n",
    "with open(r'../credentials.yaml') as file:\n",
    "    creds = yaml.load(file, Loader=yaml.FullLoader)\n",
    "\n",
    "os.environ[\"GOOGLE_APPLICATION_CREDENTIALS\"] = creds[\"google_credentials\"]\n",
    "image_url = creds[\"image_url\"]\n",
    "\n",
    "AIP().run(image_url)"
   ]
  },
  {
   "cell_type": "code",
   "execution_count": null,
   "metadata": {},
   "outputs": [],
   "source": [
    "#export\n",
    "def _must_exist(key, dict_):\n",
    "    assert key in dict_, \"%r should be in the dictionary\" % key\n",
    "\n",
    "\n",
    "def _validate_config(conf_dict):\n",
    "    _must_exist(\"image\", conf_dict)\n",
    "    _must_exist(\"data\", conf_dict)\n",
    "    _must_exist(\"output_path\", conf_dict[\"data\"])\n",
    "\n",
    "\n",
    "def run_on_gcp(conf_dict):\n",
    "    # validate config\n",
    "    _validate_config(conf_dict)\n",
    "\n",
    "    # upload config to gcp\n",
    "    gcs_config_path = os.path.join(conf_dict[\"data\"][\"output_path\"], \"config.yaml\")\n",
    "    with gcsfs().open(gcs_config_path, \"w\") as f:\n",
    "        yaml.safe_dump(conf_dict, f)\n",
    "\n",
    "    # run on GCP\n",
    "    args = \"yoda run {}\".format(gcs_config_path).split()\n",
    "    image = conf_dict[\"image\"]\n",
    "    aip = AIP()\n",
    "    aip.run(image, args=args)"
   ]
  }
 ],
 "metadata": {
  "kernelspec": {
   "display_name": "Python 3.7.6 64-bit ('yoda': conda)",
   "language": "python",
   "name": "python37664bityodaconda5756a806c80f457aaf1b2db6bed18ad8"
  }
 },
 "nbformat": 4,
 "nbformat_minor": 2
}
