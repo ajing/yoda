{
 "cells": [
  {
   "cell_type": "code",
   "execution_count": null,
   "metadata": {},
   "outputs": [],
   "source": [
    "%load_ext autoreload\n",
    "%autoreload 2"
   ]
  },
  {
   "cell_type": "markdown",
   "metadata": {},
   "source": [
    "# Overview\n",
    "\n",
    "> yoda wants to simplify the way to run jobs on Google AI platform and organize your model process in a config file.\n",
    "\n",
    "In this session, we will go through a few examples to see how yoda works."
   ]
  },
  {
   "cell_type": "markdown",
   "metadata": {},
   "source": [
    "## Run on local"
   ]
  },
  {
   "cell_type": "markdown",
   "metadata": {},
   "source": [
    "Here is an example of a config file `config1.yaml`."
   ]
  },
  {
   "cell_type": "code",
   "execution_count": null,
   "metadata": {},
   "outputs": [
    {
     "name": "stdout",
     "output_type": "stream",
     "text": [
      "data: \n",
      "  input_path: \"../data/iris_data.csv\"\n",
      "  eval_path: \"../data/iris_data.csv\"\n",
      "  output_path: \"../output/\"\n",
      "  features: \"sepal_length,sepal_width,petal_length\"\n",
      "  label: species\n",
      "train:\n",
      "  estimator: xgboost.XGBClassifier\n",
      "  params:\n",
      "    max_depth: 4\n",
      "    num_estimator: 50\n",
      "eval:\n",
      "  metrics: \"accuracy,f1_macro\"\n"
     ]
    }
   ],
   "source": [
    "config1 = '../data/configs/config1.yaml'\n",
    "with open(config1) as f:\n",
    "    print(f.read())"
   ]
  },
  {
   "cell_type": "markdown",
   "metadata": {},
   "source": [
    "We can run this config file locally by \n",
    "\n",
    "```{shell}\n",
    "yoda run config1.yaml\n",
    "```"
   ]
  },
  {
   "cell_type": "markdown",
   "metadata": {},
   "source": [
    "### The following is how yoda process the config file, you can safely ignore this part."
   ]
  },
  {
   "cell_type": "code",
   "execution_count": null,
   "metadata": {},
   "outputs": [],
   "source": [
    "# load the file\n",
    "conf_dict = yaml.load(open(config1), Loader=yaml.SafeLoader)"
   ]
  },
  {
   "cell_type": "code",
   "execution_count": null,
   "metadata": {},
   "outputs": [
    {
     "data": {
      "text/plain": [
       "{'data': {'input_path': '../data/iris_data.csv',\n",
       "  'eval_path': '../data/iris_data.csv',\n",
       "  'output_path': '../output/',\n",
       "  'features': 'sepal_length,sepal_width,petal_length',\n",
       "  'label': 'species'},\n",
       " 'train': {'estimator': 'xgboost.XGBClassifier',\n",
       "  'params': {'max_depth': 4, 'num_estimator': 50}},\n",
       " 'eval': {'metrics': 'accuracy,f1_macro'}}"
      ]
     },
     "execution_count": null,
     "metadata": {},
     "output_type": "execute_result"
    }
   ],
   "source": [
    "conf_dict"
   ]
  },
  {
   "cell_type": "markdown",
   "metadata": {},
   "source": [
    "During the ***Data*** session, yoda loads the config file and read the data from input_path. The data looks like this:"
   ]
  },
  {
   "cell_type": "code",
   "execution_count": null,
   "metadata": {},
   "outputs": [],
   "source": [
    "data = Data(**conf_dict['data'])"
   ]
  },
  {
   "cell_type": "code",
   "execution_count": null,
   "metadata": {},
   "outputs": [
    {
     "data": {
      "text/html": [
       "<div>\n",
       "<style scoped>\n",
       "    .dataframe tbody tr th:only-of-type {\n",
       "        vertical-align: middle;\n",
       "    }\n",
       "\n",
       "    .dataframe tbody tr th {\n",
       "        vertical-align: top;\n",
       "    }\n",
       "\n",
       "    .dataframe thead th {\n",
       "        text-align: right;\n",
       "    }\n",
       "</style>\n",
       "<table border=\"1\" class=\"dataframe\">\n",
       "  <thead>\n",
       "    <tr style=\"text-align: right;\">\n",
       "      <th></th>\n",
       "      <th>sepal_length</th>\n",
       "      <th>sepal_width</th>\n",
       "      <th>petal_length</th>\n",
       "    </tr>\n",
       "  </thead>\n",
       "  <tbody>\n",
       "    <tr>\n",
       "      <th>0</th>\n",
       "      <td>0.0</td>\n",
       "      <td>1.0</td>\n",
       "      <td>2.0</td>\n",
       "    </tr>\n",
       "    <tr>\n",
       "      <th>1</th>\n",
       "      <td>5.1</td>\n",
       "      <td>3.5</td>\n",
       "      <td>1.4</td>\n",
       "    </tr>\n",
       "    <tr>\n",
       "      <th>2</th>\n",
       "      <td>4.9</td>\n",
       "      <td>3.0</td>\n",
       "      <td>1.4</td>\n",
       "    </tr>\n",
       "    <tr>\n",
       "      <th>3</th>\n",
       "      <td>4.7</td>\n",
       "      <td>3.2</td>\n",
       "      <td>1.3</td>\n",
       "    </tr>\n",
       "    <tr>\n",
       "      <th>4</th>\n",
       "      <td>4.6</td>\n",
       "      <td>3.1</td>\n",
       "      <td>1.5</td>\n",
       "    </tr>\n",
       "  </tbody>\n",
       "</table>\n",
       "</div>"
      ],
      "text/plain": [
       "   sepal_length  sepal_width  petal_length\n",
       "0           0.0          1.0           2.0\n",
       "1           5.1          3.5           1.4\n",
       "2           4.9          3.0           1.4\n",
       "3           4.7          3.2           1.3\n",
       "4           4.6          3.1           1.5"
      ]
     },
     "execution_count": null,
     "metadata": {},
     "output_type": "execute_result"
    }
   ],
   "source": [
    "data.X.head()"
   ]
  },
  {
   "cell_type": "code",
   "execution_count": null,
   "metadata": {},
   "outputs": [
    {
     "data": {
      "text/plain": [
       "0    51\n",
       "2    50\n",
       "1    50\n",
       "Name: species, dtype: int64"
      ]
     },
     "execution_count": null,
     "metadata": {},
     "output_type": "execute_result"
    }
   ],
   "source": [
    "data.y.value_counts()"
   ]
  },
  {
   "cell_type": "markdown",
   "metadata": {},
   "source": [
    "Then, it will generate an object for the ***Train*** session:"
   ]
  },
  {
   "cell_type": "code",
   "execution_count": null,
   "metadata": {},
   "outputs": [],
   "source": [
    "train = Train(**conf_dict['train'])"
   ]
  },
  {
   "cell_type": "code",
   "execution_count": null,
   "metadata": {},
   "outputs": [],
   "source": [
    "train.fit(data.X, data.y)"
   ]
  },
  {
   "cell_type": "code",
   "execution_count": null,
   "metadata": {},
   "outputs": [
    {
     "data": {
      "text/plain": [
       "{'accuracy': {'sd': 0, 'avg': 1.0}, 'f1_macro': {'sd': 0, 'avg': 1.0}}"
      ]
     },
     "execution_count": null,
     "metadata": {},
     "output_type": "execute_result"
    }
   ],
   "source": [
    "run_eval(conf_dict, data, train.estimator, output_dir=None)"
   ]
  },
  {
   "cell_type": "code",
   "execution_count": null,
   "metadata": {},
   "outputs": [],
   "source": [
    "conf_dict[\"eval\"][\"cv\"] = 5\n",
    "data.eval_path = None"
   ]
  },
  {
   "cell_type": "code",
   "execution_count": null,
   "metadata": {},
   "outputs": [
    {
     "data": {
      "text/plain": [
       "{'accuracy': {'sd': 0.0574503560948385, 'avg': 0.9402150537634408},\n",
       " 'f1_macro': {'sd': 0.05748872061476293, 'avg': 0.9398830409356724}}"
      ]
     },
     "execution_count": null,
     "metadata": {},
     "output_type": "execute_result"
    }
   ],
   "source": [
    "run_eval(conf_dict, data, train.estimator, output_dir=None)"
   ]
  },
  {
   "cell_type": "markdown",
   "metadata": {},
   "source": [
    "## Run on GCP AI platform"
   ]
  },
  {
   "cell_type": "markdown",
   "metadata": {},
   "source": [
    "Before we run on AI platform, we need to create an image that have all depedencies installed."
   ]
  },
  {
   "cell_type": "markdown",
   "metadata": {},
   "source": [
    "```{shell}\n",
    "export PROJECT_ID=$(gcloud config list project --format \"value(core.project)\")\n",
    "export IMAGE_REPO_NAME=yoda\n",
    "export IMAGE_TAG=basic\n",
    "export IMAGE_URI=gcr.io/$PROJECT_ID/$IMAGE_REPO_NAME:$IMAGE_TAG\n",
    "\n",
    "docker build -f ../docker/Dockerfile.basic -t $IMAGE_URI ./\n",
    "docker push $IMAGE_URI\n",
    "```"
   ]
  },
  {
   "cell_type": "markdown",
   "metadata": {},
   "source": [
    "The config for GCP looks like this:"
   ]
  },
  {
   "cell_type": "code",
   "execution_count": null,
   "metadata": {},
   "outputs": [
    {
     "name": "stdout",
     "output_type": "stream",
     "text": [
      "data: \n",
      "  input_path: !format \"gs://{BUCKET}/{USER}/test/iris_data.csv\"\n",
      "  eval_path: !format \"gs://{BUCKET}/{USER}/test/iris_data.csv\"\n",
      "  output_path: !format \"gs://{BUCKET}/{USER}/test/output/\"\n",
      "  features: \"sepal_length,sepal_width,petal_length\"\n",
      "  label: species\n",
      "train:\n",
      "  estimator: xgboost.XGBClassifier\n",
      "  params:\n",
      "    max_depth: 4\n",
      "    num_estimator: 50\n",
      "eval:\n",
      "  metrics: \"accuracy,f1_macro\"\n"
     ]
    }
   ],
   "source": [
    "config2 = '../data/configs/config2.yaml'\n",
    "with open(config2) as f:\n",
    "    print(f.read())"
   ]
  },
  {
   "cell_type": "code",
   "execution_count": null,
   "metadata": {},
   "outputs": [],
   "source": [
    "os.environ[\"BUCKET\"] = \"testjobsubmit\"\n",
    "conf_dict2 = yaml.safe_load(open(config2))"
   ]
  },
  {
   "cell_type": "code",
   "execution_count": null,
   "metadata": {},
   "outputs": [
    {
     "data": {
      "text/plain": [
       "{'data': {'input_path': 'gs://testjobsubmit/j0l04cl/test/iris_data.csv',\n",
       "  'eval_path': 'gs://testjobsubmit/j0l04cl/test/iris_data.csv',\n",
       "  'output_path': 'gs://testjobsubmit/j0l04cl/test/output/',\n",
       "  'features': 'sepal_length,sepal_width,petal_length',\n",
       "  'label': 'species'},\n",
       " 'train': {'estimator': 'xgboost.XGBClassifier',\n",
       "  'params': {'max_depth': 4, 'num_estimator': 50}},\n",
       " 'eval': {'metrics': 'accuracy,f1_macro'}}"
      ]
     },
     "execution_count": null,
     "metadata": {},
     "output_type": "execute_result"
    }
   ],
   "source": [
    "conf_dict2"
   ]
  },
  {
   "cell_type": "code",
   "execution_count": null,
   "metadata": {},
   "outputs": [
    {
     "name": "stdout",
     "output_type": "stream",
     "text": [
      "Converted 00_core.ipynb.\n",
      "Converted 01_runner.ipynb.\n",
      "Converted 02_cli.ipynb.\n"
     ]
    }
   ],
   "source": [
    "from nbdev.export import notebook2script\n",
    "notebook2script()"
   ]
  },
  {
   "cell_type": "code",
   "execution_count": null,
   "metadata": {},
   "outputs": [],
   "source": []
  }
 ],
 "metadata": {
  "kernelspec": {
   "display_name": "Python 3.7.6 64-bit ('yoda': conda)",
   "language": "python",
   "name": "python37664bityodaconda1761fd571982482b8d09f32c72d421ae"
  }
 },
 "nbformat": 4,
 "nbformat_minor": 2
}
