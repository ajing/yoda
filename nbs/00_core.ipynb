{
 "cells": [
  {
   "cell_type": "code",
   "execution_count": null,
   "metadata": {},
   "outputs": [],
   "source": [
    "# default_exp core"
   ]
  },
  {
   "cell_type": "markdown",
   "metadata": {},
   "source": [
    "# Overview\n",
    "\n",
    "> yoda wants to simplify the way to run jobs on Google AI platform and organize your model process in a config file.\n",
    "\n",
    "In this session, we will go through a few examples to see how yoda works."
   ]
  },
  {
   "cell_type": "code",
   "execution_count": null,
   "metadata": {},
   "outputs": [],
   "source": [
    "#hide\n",
    "from nbdev.showdoc import *"
   ]
  },
  {
   "cell_type": "code",
   "execution_count": 41,
   "metadata": {},
   "outputs": [],
   "source": [
    "#export\n",
    "import click\n",
    "import yaml\n",
    "from functools import lru_cache"
   ]
  },
  {
   "cell_type": "code",
   "execution_count": 28,
   "metadata": {},
   "outputs": [],
   "source": [
    "#export\n",
    "@click.group()\n",
    "def cli():\n",
    "    pass\n",
    "\n",
    "@cli.command()\n",
    "@click.argument('config', type=click.File('r'))\n",
    "def run(config):\n",
    "    # process\n",
    "    print(\"here\")\n",
    "    conf_dict = yaml.load(config, Loader=yaml.FullLoader)\n",
    "    print(\"here\")\n",
    "    print(conf_dict)"
   ]
  },
  {
   "cell_type": "code",
   "execution_count": 29,
   "metadata": {},
   "outputs": [
    {
     "output_type": "stream",
     "name": "stdout",
     "text": "here\n\n"
    }
   ],
   "source": [
    "from click.testing import CliRunner\n",
    "\n",
    "runner = CliRunner()\n",
    "result = runner.invoke(run, ['../data/configs/config1.yaml'])\n",
    "print(result.output)"
   ]
  },
  {
   "cell_type": "markdown",
   "metadata": {},
   "source": [
    "Here is an example of a config file `config1.yaml`.\n",
    "\n",
    "```{yaml}\n",
    "data: \n",
    "  input_path: \"../data/iris_data.csv\"\n",
    "  output_path: \"../output/\"\n",
    "  features: \"sepal_length,sepal_width,petal_length\"\n",
    "  label: species\n",
    "train:\n",
    "  class: xgboost.XGBRegressor\n",
    "  max_depth: 4\n",
    "  num_estimator: 50\n",
    "```\n",
    "\n",
    "We can run this config file by \n",
    "\n",
    "```{shell}\n",
    "yoda run config1.yaml\n",
    "```"
   ]
  },
  {
   "cell_type": "code",
   "execution_count": 45,
   "metadata": {},
   "outputs": [],
   "source": [
    "# load the file\n",
    "conf_dict = yaml.load(open('../data/configs/config1.yaml'), Loader=yaml.FullLoader)"
   ]
  },
  {
   "cell_type": "code",
   "execution_count": 46,
   "metadata": {},
   "outputs": [
    {
     "output_type": "execute_result",
     "data": {
      "text/plain": "{'data': {'input_path': '../data/iris_data.csv',\n  'output_path': '../output/',\n  'features': 'sepal_length,sepal_width,petal_length',\n  'label': 'species'},\n 'train': {'class': 'xgboost.XGBRegressor',\n  'max_depth': 4,\n  'num_estimator': 50}}"
     },
     "metadata": {},
     "execution_count": 46
    }
   ],
   "source": [
    "conf_dict"
   ]
  },
  {
   "cell_type": "code",
   "execution_count": 42,
   "metadata": {},
   "outputs": [],
   "source": [
    "# export\n",
    "class Data:\n",
    "    def __init__(self, input_path: str, output_path: str, features: str, label: str, **kwargs):\n",
    "        self.input_path = input_path\n",
    "        self.output_path = output_path\n",
    "        self.feature_list = features.split(\",\")\n",
    "        self.label = label\n",
    "\n",
    "    @property\n",
    "    @lru_cache(1)\n",
    "    def df(self):\n",
    "        return blocks.assemble(input_path)\n",
    "\n",
    "    @property\n",
    "    def X(self):\n",
    "        return self.df[self.feature_list]\n",
    "\n",
    "    @property\n",
    "    def y(self):\n",
    "        return self.df[self.label]"
   ]
  },
  {
   "cell_type": "code",
   "execution_count": 44,
   "metadata": {},
   "outputs": [],
   "source": [
    "data = Data(**conf_dict['data'])"
   ]
  },
  {
   "cell_type": "markdown",
   "metadata": {},
   "source": [
    "## Run on GCP AI platform"
   ]
  },
  {
   "cell_type": "code",
   "execution_count": null,
   "metadata": {},
   "outputs": [],
   "source": [
    "Before we run on AI platform, we need to create an image that have all depedencies installed."
   ]
  },
  {
   "cell_type": "code",
   "execution_count": 50,
   "metadata": {},
   "outputs": [
    {
     "output_type": "stream",
     "name": "stdout",
     "text": "gcr.io/wmt-customer-tech-case-sci-dev/yoda:basic\n"
    }
   ],
   "source": [
    "%%script bash\n",
    "export PROJECT_ID=$(gcloud config list project --format \"value(core.project)\")\n",
    "export IMAGE_REPO_NAME=yoda\n",
    "export IMAGE_TAG=basic\n",
    "export IMAGE_URI=gcr.io/$PROJECT_ID/$IMAGE_REPO_NAME:$IMAGE_TAG\n",
    "\n",
    "docker build -f ../docker/Dockerfile.basic -t $IMAGE_URI ./"
   ]
  },
  {
   "cell_type": "code",
   "execution_count": null,
   "metadata": {},
   "outputs": [],
   "source": [
    "config = {\n",
    "    \"pipeline\": \"\"\n",
    "    \"data\": \"\",\n",
    "    \"\"\n",
    "}"
   ]
  }
 ],
 "metadata": {
  "kernelspec": {
   "display_name": "Python 3.7.6 64-bit ('py37_2': conda)",
   "language": "python",
   "name": "python37664bitpy372condac21e17866107496d9f49ef54f61743ad"
  }
 },
 "nbformat": 4,
 "nbformat_minor": 2
}