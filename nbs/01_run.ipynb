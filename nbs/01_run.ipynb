{
 "nbformat": 4,
 "nbformat_minor": 2,
 "metadata": {
  "language_info": {
   "name": "python",
   "codemirror_mode": {
    "name": "ipython",
    "version": 2
   },
   "version": "3.7.6-final"
  },
  "orig_nbformat": 2,
  "file_extension": ".py",
  "mimetype": "text/x-python",
  "name": "python",
  "npconvert_exporter": "python",
  "pygments_lexer": "ipython2",
  "version": 2,
  "kernelspec": {
   "name": "python37664bitpy372condac21e17866107496d9f49ef54f61743ad",
   "display_name": "Python 3.7.6 64-bit ('py37_2': conda)"
  }
 },
 "cells": [
  {
   "cell_type": "code",
   "execution_count": null,
   "metadata": {},
   "outputs": [],
   "source": [
    "# default_exp executor"
   ]
  },
  {
   "cell_type": "code",
   "execution_count": 39,
   "metadata": {},
   "outputs": [],
   "source": [
    "#export\n",
    "from datetime import datetime\n",
    "from functools import lru_cache\n",
    "import uuid\n",
    "import os\n",
    "from pathlib import Path\n",
    "import tempfile\n",
    "import yaml\n",
    "\n",
    "from blocks.filesystem import GCSFileSystem as gcsfs"
   ]
  },
  {
   "cell_type": "code",
   "execution_count": 22,
   "metadata": {},
   "outputs": [],
   "source": [
    "class GCPConfig:\n",
    "\n",
    "    @staticmethod\n",
    "    @lru_cache(1)\n",
    "    def bucket_name():\n",
    "        return os.getenv(\"BUCKET_NAME\") or input(\"Please enter the bucket name: \").strip()\n",
    "\n",
    "    @staticmethod\n",
    "    @lru_cache(1)\n",
    "    def project_id():\n",
    "        return os.getenv(\"PROJECT_ID\") or input(\"Please enter the project id: \").strip()\n",
    ""
   ]
  },
  {
   "cell_type": "code",
   "execution_count": 40,
   "metadata": {},
   "outputs": [],
   "source": [
    "#export\n",
    "class AIP:\n",
    "\n",
    "    @property\n",
    "    @lru_cache(1)\n",
    "    def job_name(self):\n",
    "        now = datetime.now()\n",
    "        date_time = now.strftime(\"%Y%m%d_%H%M%S\")\n",
    "        gen_uunid = hex(uuid.getnode())\n",
    "        return f\"ai_run_{date_time}_{gen_uunid}\"\n",
    "\n",
    "    @property\n",
    "    @lru_cache(1)\n",
    "    def job_dir(self):\n",
    "        return \"\"\n",
    "\n",
    "    def run(self, output_dir: Path, python_version: str = \"3.7\", runtime_version: str = \"2.1\", scale_tier: str = \"CUSTOM\", region: str = \"us-central1\", machine_type: str = \"n1-highmem-32\"):\n",
    "        job_name = self.job_name\n",
    "        trainer_package_path = output_dir / \"src\"\n",
    "        job_dir = output_dir / \"output\"\n",
    "\n",
    "        # prepare the folder on gcp\n",
    "\n",
    "        # upload to gcp\n",
    "        main_trainer_module = output_dir / \"src\" / \"CHANGE_THIS\"\n",
    "\n",
    "        # config\n",
    "        config = {\n",
    "            \"trainingInput\":\n",
    "            {\n",
    "                \"scaleTier\": \"CUSTOM\",\n",
    "                \"masterType\": machine_type\n",
    "            }\n",
    "        }\n",
    "        with tempfile.NamedTemporaryFile(mode = \"w\") as fp:\n",
    "            yaml.dump(config, fp, sort_keys=True)\n",
    "            config_path = fp.name\n",
    "\n",
    "            # run the job\n",
    "            gcp_cmd = f\"\"\"\n",
    "                gcloud ai-platform jobs submit training {job_name} \\\n",
    "                --job-dir {job_dir} \\\n",
    "                --package-path {trainer_package_path} \\\n",
    "                --module-name {main_trainer_module} \\\n",
    "                --region {region} \\\n",
    "                --master-image-uri {image}\n",
    "                --runtime-version={runtime_version} \\\n",
    "                --python-version={python_version} \\\n",
    "                --scale-tier {scale_tier} \\\n",
    "                --config {config_path}\n",
    "            \"\"\"\n",
    "            print(gcp_cmd)"
   ]
  },
  {
   "cell_type": "code",
   "execution_count": 41,
   "metadata": {},
   "outputs": [
    {
     "output_type": "stream",
     "name": "stdout",
     "text": "\n                gcloud ai-platform jobs submit training ai_run_20200428_083645_0x8c8590a5b94c                 --job-dir gs:/testjobsubmit/output                 --package-path gs:/testjobsubmit/src                 --module-name gs:/testjobsubmit/src/CHANGE_THIS                 --region us-central1                 --runtime-version=2.1                 --python-version=3.7                 --scale-tier CUSTOM                 --config /var/folders/2k/b58ly_192yjgtv76zjxqj6f8_9cn2g/T/tmpl8pefm4j\n            \n"
    }
   ],
   "source": [
    "AIP().run(Path(\"gs://testjobsubmit\"))"
   ]
  },
  {
   "cell_type": "code",
   "execution_count": null,
   "metadata": {},
   "outputs": [],
   "source": []
  }
 ]
}