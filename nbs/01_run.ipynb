{
 "cells": [
  {
   "cell_type": "code",
   "execution_count": null,
   "metadata": {},
   "outputs": [],
   "source": [
    "# default_exp executor"
   ]
  },
  {
   "cell_type": "code",
   "execution_count": null,
   "metadata": {},
   "outputs": [],
   "source": [
    "#export\n",
    "from datetime import datetime\n",
    "from functools import lru_cache\n",
    "import uuid\n",
    "import os\n",
    "from pathlib import Path\n",
    "import tempfile\n",
    "import yaml\n",
    "\n",
    "from blocks.filesystem import GCSFileSystem as gcsfs"
   ]
  },
  {
   "cell_type": "code",
   "execution_count": null,
   "metadata": {},
   "outputs": [],
   "source": [
    "class GCPConfig:\n",
    "\n",
    "    @staticmethod\n",
    "    @lru_cache(1)\n",
    "    def bucket():\n",
    "        return os.getenv(\"BUCKET\") or input(\"Please enter the bucket path: \").strip()\n",
    "\n",
    "    @staticmethod\n",
    "    @lru_cache(1)\n",
    "    def project_id():\n",
    "        return os.getenv(\"PROJECT_ID\") or google.auth.default()[1] or input(\"Please enter the project id: \").strip()\n"
   ]
  },
  {
   "cell_type": "code",
   "execution_count": null,
   "metadata": {},
   "outputs": [],
   "source": [
    "#export\n",
    "from googleapiclient import discovery\n",
    "import warnings\n",
    "\n",
    "class AIP:\n",
    "\n",
    "    @property\n",
    "    @lru_cache(1)\n",
    "    def job_id(self):\n",
    "        now = datetime.now()\n",
    "        date_time = now.strftime(\"%Y%m%d_%H%M%S\")\n",
    "        gen_uunid = hex(uuid.getnode())\n",
    "        return f\"ai_run_{date_time}_{gen_uunid}\"\n",
    "\n",
    "    @property\n",
    "    @lru_cache(1)\n",
    "    def job_output(self):\n",
    "        return GCPConfig.bucket()\n",
    "\n",
    "    def run(self, image, machine_type: str = \"n1-highmem-32\", job_id=None, args=[], **overrides):\n",
    "        \"\"\"\n",
    "\n",
    "        \"\"\"\n",
    "        # TODO: dealing with hyperparameters\n",
    "\n",
    "        training_inputs = {\n",
    "            \"scaleTier\": \"CUSTOM\",\n",
    "            \"masterType\": machine_type,\n",
    "            \"args\": args,\n",
    "            \"region\": \"us-central1\",\n",
    "            \"masterConfig\": {\"imageUri\": image}\n",
    "        }\n",
    "        training_inputs.update(overrides)\n",
    "\n",
    "        job_spec = {\"jobId\": job_id, \"trainingInput\": training_inputs}\n",
    "        project_id = \"projects/{}\".format(GCPConfig.project_id())\n",
    "\n",
    "        _setup_logging\n",
    "        with warnings.catch_warnings():\n",
    "            warnings.simplefilter(\"ignore\")\n",
    "            cloudml = discovery.build(\"ml\", \"v1\", cache_discovery = False)\n",
    "            request = cloudml.projects().jobs().create(body = job_spec, parent=project_id)\n",
    "            return request.execute()"
   ]
  },
  {
   "cell_type": "code",
   "execution_count": null,
   "metadata": {},
   "outputs": [
    {
     "name": "stdout",
     "output_type": "stream",
     "text": "\n                gcloud ai-platform jobs submit training ai_run_20200428_083645_0x8c8590a5b94c                 --job-dir gs:/testjobsubmit/output                 --package-path gs:/testjobsubmit/src                 --module-name gs:/testjobsubmit/src/CHANGE_THIS                 --region us-central1                 --runtime-version=2.1                 --python-version=3.7                 --scale-tier CUSTOM                 --config /var/folders/2k/b58ly_192yjgtv76zjxqj6f8_9cn2g/T/tmpl8pefm4j\n            \n"
    }
   ],
   "source": [
    "AIP().run(\"gs://testjobsubmit\")"
   ]
  },
  {
   "cell_type": "code",
   "execution_count": null,
   "metadata": {},
   "outputs": [],
   "source": [
    "#export\n",
    "def _must_exist(key, dict_):\n",
    "    assert key in dict_, \"%r should be in the dictionary\" % key\n",
    "\n",
    "def _validate_config(conf_dict):\n",
    "    _must_exist(\"image\", conf_dict)\n",
    "\n",
    "def run_yoda_on_gcp(conf_dict):\n",
    "    # validate config\n",
    "    _validate_config(conf_dict)\n",
    "\n",
    "    # upload config to gcp\n",
    "    gcs_config_path = os.path.join(self.job_output, \"config.yaml\")\n",
    "    with GCSFileSystem().open(gs_config_path, \"w\") as f:\n",
    "        yaml.safe_dump(conf_dict, f)\n",
    "\n",
    "    # run on GCP\n",
    "    args=\"yoda run {}\".format(gcs_config_path).split()\n",
    "    image=conf_dict[\"image\"]\n",
    "    aip = AIP()\n",
    "    aip.run(image, args=args, **conf_dict)"
   ]
  },
  {
   "cell_type": "code",
   "execution_count": null,
   "metadata": {},
   "outputs": [],
   "source": [
    "import google.cloud.logging\n",
    "from google.cloud.logging.handlers.handlers import CloudLoggingHandler, EXCLUDED_LOGGER_DEFAULTS\n",
    "\n",
    "def _setup_logging():\n",
    "    job = os.environ.get(\"CLOUD_ML_JOB_ID\", None)\n",
    "    trial = os.environ.get(\"CLOUD_ML_TRIAL_ID\", None)\n",
    "    project = os.environ.get(\"GCP_PROJECT\", None)\n",
    "    if job and project:\n",
    "        client = google.cloud.logging.Client(project = project)\n",
    "        resource = Resource(type = \"ml_job\", labels = dict(job_id = job, project_id = project, task_name = \"master-replica-o\"))\n",
    "        # grouping by trial in AIP logs\n",
    "        labels = {\"ml.googleapis.com/trial_id\": trial} if trial is not None else None\n",
    "        handler = CloudLoggingHandler(client, resource=resource,labels=labels)\n",
    "        logger = logging.getLogger()\n",
    "        logger.handlers = []\n",
    "        logger.setLevel(logging.DEBUG)\n",
    "        logger.addHandler(handler)\n",
    "        for logger_name in EXCLUDED_LOGGER_DEFAULTS:\n",
    "            logging.getLogger(logger_name).propagate = False\n",
    "    else:\n",
    "        logger = logging.getLogger()\n",
    "        logger.setLevel(logging.DEBUG)"
   ]
  },
  {
   "cell_type": "code",
   "execution_count": null,
   "metadata": {},
   "outputs": [],
   "source": []
  }
 ],
 "metadata": {
  "kernelspec": {
   "display_name": "Python 3.7.6 64-bit ('py37_2': conda)",
   "name": "python37664bitpy372condac21e17866107496d9f49ef54f61743ad"
  }
 },
 "nbformat": 4,
 "nbformat_minor": 2
}
