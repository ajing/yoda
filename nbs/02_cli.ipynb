{
 "cells": [
  {
   "cell_type": "code",
   "execution_count": null,
   "metadata": {},
   "outputs": [],
   "source": [
    "# default_exp cli"
   ]
  },
  {
   "cell_type": "code",
   "execution_count": null,
   "metadata": {},
   "outputs": [],
   "source": [
    "%load_ext autoreload\n",
    "%autoreload 2"
   ]
  },
  {
   "cell_type": "code",
   "execution_count": null,
   "metadata": {},
   "outputs": [],
   "source": [
    "import yoda"
   ]
  },
  {
   "cell_type": "code",
   "execution_count": null,
   "metadata": {},
   "outputs": [],
   "source": [
    "#export\n",
    "import click\n",
    "import yaml\n",
    "\n",
    "from yoda.runner import run_on_local, run_on_gcp"
   ]
  },
  {
   "cell_type": "code",
   "execution_count": null,
   "metadata": {},
   "outputs": [],
   "source": [
    "#export\n",
    "def is_run_on_local(conf_dict: dict):\n",
    "    return not conf_dict[\"output_path\"].startswith(\"gs://\")\n",
    "\n",
    "\n",
    "@click.group()\n",
    "def cli():\n",
    "    pass\n",
    "\n",
    "\n",
    "@cli.command()\n",
    "@click.argument('config', type=click.File('r'))\n",
    "def run(config):\n",
    "    conf_dict = yaml.load(config, Loader=yaml.FullLoader)\n",
    "    if is_run_on_local(conf_dict):\n",
    "        run_on_local(conf_dict)\n",
    "    else:\n",
    "        run_on_gcp(conf_dict)"
   ]
  },
  {
   "cell_type": "code",
   "execution_count": null,
   "metadata": {},
   "outputs": [
    {
     "name": "stdout",
     "output_type": "stream",
     "text": [
      "\n"
     ]
    }
   ],
   "source": [
    "from click.testing import CliRunner\n",
    "\n",
    "runner = CliRunner()\n",
    "result = runner.invoke(run, ['../data/configs/config1.yaml'])\n",
    "print(result.output)"
   ]
  },
  {
   "cell_type": "code",
   "execution_count": null,
   "metadata": {},
   "outputs": [],
   "source": []
  }
 ],
 "metadata": {
  "kernelspec": {
   "display_name": "Python 3.7.6 64-bit ('yoda': conda)",
   "language": "python",
   "name": "python37664bityodacondaa24788f35c4248e98373ee0d6c2be753"
  }
 },
 "nbformat": 4,
 "nbformat_minor": 2
}
