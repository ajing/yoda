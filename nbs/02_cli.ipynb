{
 "cells": [
  {
   "cell_type": "code",
   "execution_count": null,
   "metadata": {},
   "outputs": [],
   "source": [
    "# default_exp cli"
   ]
  },
  {
   "cell_type": "code",
   "execution_count": null,
   "metadata": {},
   "outputs": [],
   "source": [
    "%load_ext autoreload\n",
    "%autoreload 2"
   ]
  },
  {
   "cell_type": "code",
   "execution_count": null,
   "metadata": {},
   "outputs": [],
   "source": [
    "import yoda"
   ]
  },
  {
   "cell_type": "code",
   "execution_count": null,
   "metadata": {},
   "outputs": [],
   "source": [
    "#export\n",
    "import click\n",
    "import yaml\n",
    "\n",
    "from yoda.core import run_on_dict\n",
    "from yoda.runner import AIP"
   ]
  },
  {
   "cell_type": "code",
   "execution_count": null,
   "metadata": {},
   "outputs": [],
   "source": [
    "#export\n",
    "@click.group()\n",
    "def cli():\n",
    "    pass\n",
    "\n",
    "@cli.command()\n",
    "@click.argument('config', type=click.File('r'))\n",
    "def run(config):\n",
    "    conf_dict = yaml.load(config, Loader=yaml.FullLoader)\n",
    "    if _run_on_local(conf_dict):\n",
    "        run_on_dict_local(conf_dict)\n",
    "    else:\n",
    "        AIP.run()\n",
    "        run_on_dict_gcp(conf_dict)"
   ]
  },
  {
   "cell_type": "code",
   "execution_count": null,
   "metadata": {},
   "outputs": [
    {
     "name": "stdout",
     "output_type": "stream",
     "text": [
      "\n"
     ]
    }
   ],
   "source": [
    "from click.testing import CliRunner\n",
    "\n",
    "runner = CliRunner()\n",
    "result = runner.invoke(run, ['../data/configs/config1.yaml'])\n",
    "print(result.output)"
   ]
  },
  {
   "cell_type": "code",
   "execution_count": null,
   "metadata": {},
   "outputs": [],
   "source": []
  }
 ],
 "metadata": {
  "kernelspec": {
   "display_name": "Python 3.7.6 64-bit ('yoda': conda)",
   "language": "python",
   "name": "python37664bityodacondaa24788f35c4248e98373ee0d6c2be753"
  }
 },
 "nbformat": 4,
 "nbformat_minor": 2
}
